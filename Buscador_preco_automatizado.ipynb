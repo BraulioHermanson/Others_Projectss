{
 "cells": [
  {
   "cell_type": "code",
   "execution_count": 4,
   "id": "b3943ad1",
   "metadata": {},
   "outputs": [],
   "source": [
    "from selenium import webdriver\n",
    "from selenium.webdriver.chrome.service import Service\n",
    "from webdriver_manager.chrome import ChromeDriverManager\n",
    "from selenium.webdriver.common.by import By\n",
    "from selenium.webdriver.common.keys import Keys\n",
    "import time\n",
    "import pandas as pd"
   ]
  },
  {
   "cell_type": "code",
   "execution_count": 5,
   "id": "3c420034",
   "metadata": {},
   "outputs": [],
   "source": [
    "servico = Service(ChromeDriverManager().install())\n",
    "navegador = webdriver.Chrome(service=servico)\n",
    "navegador.maximize_window()"
   ]
  },
  {
   "cell_type": "code",
   "execution_count": 14,
   "id": "c723cb4c",
   "metadata": {},
   "outputs": [],
   "source": [
    "def busca_google_shopping(navegador,produto,termos_banidos,preco_minimo,preco_maximo):\n",
    "    #entrar no google\n",
    "    navegador.get('https://www.google.com/')\n",
    "    \n",
    "    #tratar valores inseridos\n",
    "    produto = produto.lower()\n",
    "    lista_termos_produtos = produto.split(\" \")\n",
    "    termos_banidos = termos_banidos.lower()\n",
    "    lista_termos_banidos = termos_banidos.split(\" \")\n",
    "    \n",
    "    # adicionar o produto na busca do google\n",
    "    navegador.find_element(By.XPATH,'/html/body/div[1]/div[3]/form/div[1]/div[1]/div[1]/div/div[2]/input').send_keys(produto)\n",
    "    navegador.find_element(By.XPATH,'/html/body/div[1]/div[3]/form/div[1]/div[1]/div[1]/div/div[2]/input').send_keys(Keys.ENTER)\n",
    "    \n",
    "    #procura pelo shopping google\n",
    "    navegador.find_element(By.XPATH,'//*[@id=\"hdtb-msb\"]/div[1]/div/div[2]/a').click()\n",
    "        \n",
    "    #pega lista de resultados do google shopping\n",
    "    lista_resultados = navegador.find_elements(By.CLASS_NAME, 'sh-dgr__grid-result')\n",
    "    lista_ofertas =[]\n",
    "    \n",
    "    for resultado in lista_resultados:\n",
    "        preco = resultado.find_element(By.CLASS_NAME,'XrAfOe').text\n",
    "        preco = preco.split('\\n')\n",
    "        preco = preco[1]\n",
    "        preco = preco.replace(' Custava R$ 789,00','').replace(' Custava R$ 1.149,00','').replace(' Custava R$ 10.923,85','').replace(' Custava R$ 1.279,00','').replace(' Custava R$ 1.199,00','')\n",
    "        preco = preco.replace(' Custava R$ 125,58','').replace(' Custava R$ 509,00','').replace(' Custava R$ 1.009,00','')\n",
    "        preco = preco.replace(' Custava R$ 1.799,00','')\n",
    "        preco = preco.replace('R$','').replace(' ','').replace('.','').replace(',','.')\n",
    "        preco = float(preco)\n",
    "        \n",
    "        nome = resultado.find_element(By.CLASS_NAME,'tAxDx').text\n",
    "        nome = nome.lower()\n",
    "        \n",
    "        #verificando o nome \n",
    "        tem_termos_banidos = False\n",
    "        for palavra in lista_termos_banidos:\n",
    "            if palavra in nome:\n",
    "                tem_termos_banidos =True\n",
    "                \n",
    "        tem_todos_termos_produto = True\n",
    "        for palavra in lista_termos_produtos:\n",
    "            if palavra not in nome:\n",
    "                tem_todos_termos_produto = False\n",
    "                \n",
    "        # se tem_temosPbanidos = False e tem_todos_termos_produtos = True -- executa a analise\n",
    "        preco_maximo = float(preco_maximo)\n",
    "        preco_minimo = float(preco_minimo)\n",
    "        if preco_minimo <= preco <= preco_maximo:\n",
    "            elemento_link = resultado.find_element(By.CLASS_NAME,'aULzUe')\n",
    "            elemento_pai = elemento_link.find_element(By.XPATH,'..')\n",
    "            link = elemento_pai.get_attribute('href')\n",
    "            lista_ofertas.append((nome,preco,link))\n",
    "    return lista_ofertas"
   ]
  },
  {
   "cell_type": "code",
   "execution_count": 15,
   "id": "7b379caa",
   "metadata": {},
   "outputs": [],
   "source": [
    "produto = 'Smartphone Samsung Galaxy'\n",
    "termos_banidos = 'A53'\n",
    "preco_minimo = 800\n",
    "preco_maximo = 6000\n",
    "\n",
    "lista_produtos = busca_google_shopping(navegador,produto,termos_banidos,preco_minimo,preco_maximo)"
   ]
  },
  {
   "cell_type": "code",
   "execution_count": 16,
   "id": "469b233d",
   "metadata": {
    "scrolled": true
   },
   "outputs": [
    {
     "name": "stdout",
     "output_type": "stream",
     "text": [
      "[('smartphone samsung galaxy a13 128gb 4gb ram - preto', 1034.1, 'https://www.google.com/url?url=https://www.magazineluiza.com.br/smartphone-samsung-galaxy-a13-128gb-4g-tela-6-6-dual-4gb-ram-camera-quadrupla-selfie-8mp-preto/p/cc2kace52h/te/ga13/%3F%26seller_id%3Dsemprevoce&rct=j&q=&esrc=s&sa=U&ved=0ahUKEwil7oHv8Zz8AhXVqpUCHdQ1A5oQguUECJsQ&usg=AOvVaw10Ny-8iRyxswSljHQwdz_R'), ('smartphone samsung galaxy a53 5g, 128gb, 8gb ram, câmera quádrupla, tela infinita ...', 1979.1, 'https://www.google.com/url?url=https://www.casasbahia.com.br/smartphone-samsung-galaxy-a53-5g-128gb-8gb-ram-camera-quadrupla-tela-infinita-de-65-quot-azul-1536303711/p/1536303711%3Futm_medium%3DCpc%26utm_source%3Dgoogle_freelisting%26IdSku%3D1536303711%26idLojista%3D209633%26tipoLojista%3D3P&rct=j&q=&esrc=s&sa=U&ved=0ahUKEwil7oHv8Zz8AhXVqpUCHdQ1A5oQguUECKsQ&usg=AOvVaw2I7GyN10IRZZbMlIbOHY9b'), ('smartphone galaxy a03 64gb 4gb ram preto - samsung', 1044.05, 'https://www.google.com/url?url=http://www.nagem.com.br/produto/detalhes/551961/Smartphone%2BSamsung%2BGalaxy%2BA03%2BAndroid%2BTela%2B6.5%2522%2B64GB%2BCamera%2B48MP%2B%252B%2B2MP%2B%252B%2B5MP%2BOcta-Core%2B1.6GHz%2BPreto&rct=j&q=&esrc=s&sa=U&ved=0ahUKEwil7oHv8Zz8AhXVqpUCHdQ1A5oQguUECLwQ&usg=AOvVaw05gR8aDOF3rgjj7yseo6U6'), ('smartphone samsung galaxy a32, 128gb, 4gb ram, tela 6.4\" - violeta', 1889.1, 'https://www.google.com/url?url=https://www.fastshop.com.br/web/p/d/3001379395_PRD/smartphone-samsung-galaxy-a32-128gb-4gb-ram-tela-de-64-3001379395prd%3Fpartner%3Dparceiro-google%26cm_mmc%3Dxml_google-_-nd-_-CELULAR%253ECELULARES_E_SMARTPHONES%253EMID-_-3001379396&rct=j&q=&esrc=s&sa=U&ved=0ahUKEwil7oHv8Zz8AhXVqpUCHdQ1A5oQguUECMwQ&usg=AOvVaw3W_qRZG58oCTfCd4Et-oo9'), ('smartphone samsung galaxy a53 5g, 128gb, 8gb ram, câmera quádrupla, tela infinita ...', 1979.1, 'https://www.google.com/url?url=http://www.sipolatti.com.br/smartphone-samsung-galaxy-a53-5g-128gb-8gb-ram-camera-quadrupla-selfie-32mp/p%3Fidsku%3D471107&rct=j&q=&esrc=s&sa=U&ved=0ahUKEwil7oHv8Zz8AhXVqpUCHdQ1A5oQguUECN0Q&usg=AOvVaw1lJhPFgzqS-VEyAP2IJxh3'), ('smartphone samsung galaxy m13 128gb azul 4gb ram', 1439.1, 'https://www.google.com/url?url=https://www.carrefour.com.br/smartphone-samsung-galaxy-m13-128gb-azul-4g-tela-6-6-camera-tripla-50mp-selfie-8mp-android-12-5338298/p&rct=j&q=&esrc=s&sa=U&ved=0ahUKEwil7oHv8Zz8AhXVqpUCHdQ1A5oQguUECO0Q&usg=AOvVaw1v3eSLsXVFV976GIT01K0B'), ('smartphone samsung galaxy m23 5g 128gb 6gb ram - azul', 1430.1, 'https://www.google.com/url?url=https://www.kabum.com.br/produto/324403/smartphone-samsung-galaxy-m23-5g-6gb-ram-128gb-octa-core-camera-tripla-50mp-tela-infinita-6-6-azul-sm-m236blbtzto%3Fsrsltid%3DAYJSbAcXxzsSP975lTMCnEuDaIA8sMTjVsafSpO3jYJ0MEw3zU34i5HuFNY&rct=j&q=&esrc=s&sa=U&ved=0ahUKEwil7oHv8Zz8AhXVqpUCHdQ1A5oQguUECP0Q&usg=AOvVaw1-a_IDC_lPPHMPvKRolS42'), ('smartphone samsung galaxy a03s 64 gb preto 4 gb ram', 854.1, 'https://www.google.com/url?url=https://www.casaevideo.com.br/smartphone-samsung-a037m-galaxy-a03s-64gb-preto/p%3Fidsku%3D16932%26srsltid%3DAYJSbAcBYt3xqeyjH_gmk-0ZOWWumOf_gQV0Vbuaip8SLK7KvgOQlcIsQJM&rct=j&q=&esrc=s&sa=U&ved=0ahUKEwil7oHv8Zz8AhXVqpUCHdQ1A5oQguUECI0R&usg=AOvVaw1-it-KQ42GM2Us_UIQ6Ebq'), ('smartphone samsung galaxy a03s tela 6.5 64gb 4 gb ram - azul', 989.1, 'https://www.google.com/url?url=https://www.pontofrio.com.br/smartphone-samsung-galaxy-a03s-64gb-4gb-ram-bateria-5000mah-tela-infinita-de-65-quot-azul-1520242410/p/1520242410%3Futm_medium%3Dcpc%26utm_source%3Dgoogle_freelisting%26IdSku%3D1520242410%26idLojista%3D209633%26tipoLojista%3D3P&rct=j&q=&esrc=s&sa=U&ved=0ahUKEwil7oHv8Zz8AhXVqpUCHdQ1A5oQguUECJ0R&usg=AOvVaw3VvCMZlqnVH8F5VGUPa3AZ'), ('smartphone samsung galaxy a03 64gb 4gb ram - vermelho', 893.0, 'https://www.google.com/url?url=https://www.novolare.com.br/smartphone%2Bsamsung%2Bgalaxy%2Ba03%2Bvermelho%2Btela%2B65%2B644gb%2Bram%2Bcamdupla%2B48mp%2B%2B%2B2mp&rct=j&q=&esrc=s&sa=U&ved=0ahUKEwil7oHv8Zz8AhXVqpUCHdQ1A5oQguUECK0R&usg=AOvVaw2xEda7Nc7SZZvqCmHwJXWA'), ('smartphone samsung galaxy m53 5g 128gb 8gb ram azul', 1979.1, 'https://www.google.com/url?url=https://shop.samsung.com/br/galaxy-m53-5g/p%3Fidsku%3D2851&rct=j&q=&esrc=s&sa=U&ved=0ahUKEwil7oHv8Zz8AhXVqpUCHdQ1A5oQguUECL0R&usg=AOvVaw1-loYeIZ-dj0JZYuF2rqPs'), ('smartphone samsung galaxy a32 128gb azul', 1899.0, 'https://www.google.com/url?url=https://www.supermuffato.com.br/smartphone-samsung-galaxy-a32-sm-a325mz-android-11-128gb-octa-core-camera-quadrupla-tela-6-4-pol-azul-2615264/p%3Fidsku%3D2615264&rct=j&q=&esrc=s&sa=U&ved=0ahUKEwil7oHv8Zz8AhXVqpUCHdQ1A5oQguUECM0R&usg=AOvVaw1CpGl-_Vq66VbqON8L-vml'), ('smartphone samsung galaxy a21s 64gb azul', 1034.1, 'https://www.google.com/url?url=https://www.celltronics.com.br/samsung-galaxy-a21s-a217m-64gb-4gb-ram-octa-core-camera-traseira-quadrupla-camera-frontal-13mp-tela-6-5/p%3Fidsku%3D2176&rct=j&q=&esrc=s&sa=U&ved=0ahUKEwil7oHv8Zz8AhXVqpUCHdQ1A5oQguUECN0R&usg=AOvVaw0xwB7jVw5UR1xyNhEIe3ML'), ('smartphone galaxy a03 core preto 32gb 2gb ram - samsung', 852.12, 'https://www.google.com/url?url=https://www.novomundo.com.br/smartphone-samsung-galaxy-a03-core-32gb-preto-4g-tela-65--4632437/p%3Fidsku%3D3695844%26utm_source%3Dgoogle_shopping%26utm_medium%3Dorganic&rct=j&q=&esrc=s&sa=U&ved=0ahUKEwil7oHv8Zz8AhXVqpUCHdQ1A5oQguUECO8R&usg=AOvVaw3Lw6AngBRrqGMGTK4nnnGd'), ('smartphone galaxy s20 fe 5g 128gb 6gb violeta samsung', 2099.0, 'https://www.google.com/url?url=https://www.taqi.com.br/smartphone-samsung-galaxy-s20-fe-128gb-5g-violeta/221381%3Fsrsltid%3DAYJSbAeFhyAno3RDnZWF7GwkIltaYp0Xr-AK8S-JO0mzO1cioqgbFc6NICg&rct=j&q=&esrc=s&sa=U&ved=0ahUKEwil7oHv8Zz8AhXVqpUCHdQ1A5oQguUECP8R&usg=AOvVaw1NKOxZPns0CSmBubcIiL0a'), ('smartphone samsung galaxy a31 128gb azul', 2032.79, 'https://www.google.com/url?url=https://www.submarino.com.br/produto/1691398117%3Fopn%3DXMLGOOGLE%26offerId%3D638902ebeca21af2616c17fc&rct=j&q=&esrc=s&sa=U&ved=0ahUKEwil7oHv8Zz8AhXVqpUCHdQ1A5oQguUECI8S&usg=AOvVaw3WwhG838_8pwb3hu8zEFLh'), ('smartphone samsung galaxy a23 128gb branco 4gb ram', 1399.0, 'https://www.google.com/url?url=https://www.amazon.com.br/Smartphone-Samsung-bateria-Qu%25C3%25A1drupla-Traseira/dp/B09V1QKVMZ%3Fsource%3Dps-sl-shoppingads-lpcontext%26ref_%3Dfplfs%26psc%3D1%26smid%3DANH8N36FTPMYR&rct=j&q=&esrc=s&sa=U&ved=0ahUKEwil7oHv8Zz8AhXVqpUCHdQ1A5oQguUECJ8S&usg=AOvVaw0GEnFgT3V-WDKGFeRdBRPk'), ('smartphone samsung galaxy s20 fe 5g, 128gb, 6gb ram, câmera tripla, tela infinita ...', 2069.1, 'https://www.google.com/url?url=https://www.cea.com.br/smartphone-samsung-galaxy-s20-fe-5g-128gb-azul-marinho-1036081-azul_marinho/p%3Fsrsltid%3DAYJSbAcamh7izp88jA1VoJxRu4rmit-dxkQGRCdCrlrTMk7NtHct93RDBog&rct=j&q=&esrc=s&sa=U&ved=0ahUKEwil7oHv8Zz8AhXVqpUCHdQ1A5oQguUECK8S&usg=AOvVaw381Cdl6H5vyRwWQO8MzZuf'), ('smartphone samsung galaxy a51 128 gb branco', 946.68, 'https://www.google.com/url?url=https://www.trocafone.com/samsung-galaxy-a51-128gb-branco-bom/p/TROC-42435&rct=j&q=&esrc=s&sa=U&ved=0ahUKEwil7oHv8Zz8AhXVqpUCHdQ1A5oQguUECMAS&usg=AOvVaw3HOhwOck_DQAT02ni0lCxE'), ('smartphone samsung galaxy s21 fe 5g verde 128gb 6gb ram', 3499.0, 'https://www.google.com/url?url=https://www.riachuelo.com.br/celular-samsung-galaxy-s21-fe-5g-android-128gb-verde-14602407_sku_sku%3Fsku%3D14602407&rct=j&q=&esrc=s&sa=U&ved=0ahUKEwil7oHv8Zz8AhXVqpUCHdQ1A5oQguUECNAS&usg=AOvVaw3kQvhgEmLjkfPkQ4foCkRF'), ('smartphone samsung galaxy m52 5g 128gb 6gb ram câmera tripla + selfie 32mp tela 6 ...', 3499.0, 'https://www.google.com/url?url=https://www.bemol.com.br/samsung-galaxy-m52-128gb-branco-tela-6-7-camera-64mp-6-gb-p1113280%3Ftsid%3D16&rct=j&q=&esrc=s&sa=U&ved=0ahUKEwil7oHv8Zz8AhXVqpUCHdQ1A5oQguUECOAS&usg=AOvVaw0t8YnulHei0k46RnX6KfT7'), ('smartphone samsung galaxy a33 5g 128 gb 6 gb ram azul', 2050.2, 'https://www.google.com/url?url=https://www.efacil.com.br/loja/produto/smartphone-samsung-galaxy-a33-azul-tela-64-5gwi-finfc-and-12-cam-tras-de-48852mp-frontal-de-13mp-6gb-ram-128gb-3303928/%3Fcanal%3Dca_9784&rct=j&q=&esrc=s&sa=U&ved=0ahUKEwil7oHv8Zz8AhXVqpUCHdQ1A5oQguUECPAS&usg=AOvVaw0ukvf5s-wp2NfZqXtomx3v'), ('smartphone samsung galaxy a13 128gb azul', 1329.0, 'https://www.google.com/url?url=https://www.zema.com/smartphone-samsung-galaxy-a13-128gb-4gb-ram-tela-de-66-a135-mzwlzto/P7991S1Zema&rct=j&q=&esrc=s&sa=U&ved=0ahUKEwil7oHv8Zz8AhXVqpUCHdQ1A5oQguUECIET&usg=AOvVaw0JZTjCj13DC7acjhK5g1F3'), ('smartphone samsung galaxy s21 fe 5g 128gb 6gb ram - branco', 2699.0, 'https://www.google.com/url?url=/shopping/product/4029754705294034043%3Fprds%3Doid:8240775440538950886,pid:16570789779873321085%26sts%3D9%26hl%3Dpt%26lsf%3Dseller:120324600,store:8553847991702555052,s:h&rct=j&q=&esrc=s&sa=U&ved=0ahUKEwil7oHv8Zz8AhXVqpUCHdQ1A5oQ_uQECKET&usg=AOvVaw247UkXfoo_whncX4RHNJZB'), ('smartphone samsung galaxy s10e 128 gb azul', 999.0, 'https://www.google.com/url?url=https://www.colombo.com.br/produto/Smartphone-e-Celular/Usado-Samsung-Galaxy-S10e-128GB-Azul-Bom-Trocafone-Azul%3Fportal%3D8B36E9207C24C76E6719268E49201D94%26srsltid%3DAYJSbAfCgZaIZvG1qhvwafhUpFBJrdYQJmNhNCFuL1UaMKVqnnuzEVuN5kY&rct=j&q=&esrc=s&sa=U&ved=0ahUKEwil7oHv8Zz8AhXVqpUCHdQ1A5oQguUECLET&usg=AOvVaw1AQjE-K8I64VhhpK4h8DZW'), ('smartphone galaxy a03 64gb 4gb ram azul - samsung', 949.0, 'https://www.google.com/url?url=https://www.moveissimonetti.com.br/smartphone-samsung-galaxy-a03-64gb-preto-a035-tela-65-hd-ram-4gb-azul-camera-traseira-dupla-48mp-2mp/p%3Fidsku%3D34235&rct=j&q=&esrc=s&sa=U&ved=0ahUKEwil7oHv8Zz8AhXVqpUCHdQ1A5oQguUECNMT&usg=AOvVaw1IuJqTq3QimKqjpUzJhFn_'), ('smartphone samsung galaxy s20 128gb cinza', 1509.0, 'https://www.google.com/url?url=https://www.casasbahia.com.br/usado-samsung-galaxy-s20-128gb-cosmic-gray-bom-trocafone-1519387660/p/1519387660%3Futm_medium%3DCpc%26utm_source%3Dgoogle_freelisting%26IdSku%3D1519387660%26idLojista%3D88259%26tipoLojista%3D3P&rct=j&q=&esrc=s&sa=U&ved=0ahUKEwil7oHv8Zz8AhXVqpUCHdQ1A5oQguUECOQT&usg=AOvVaw1WkWt4YfVcnL_YjoZG6msX'), ('smartphone galaxy a11 64gb azul - samsung', 1167.55, 'https://www.google.com/url?url=https://www.yellmobile.com.br/celular-samsung-galaxy-a11-azul-64gb-tela-6-4-3gb-ram-camera-tripla-13mp-5mp-2mp/p%3Fidsku%3D1813302089&rct=j&q=&esrc=s&sa=U&ved=0ahUKEwil7oHv8Zz8AhXVqpUCHdQ1A5oQguUECPUT&usg=AOvVaw2YvT7IIOoy33mKw6EFZpQ7'), ('smartphone samsung galaxy a71 128gb azul 6gb ram', 1999.05, 'https://www.google.com/url?url=http://patiogourmet.com.br/smartphone-samsung-galaxy-a71-128gb-azul-1un/p%3Fidsku%3D40662%26srsltid%3DAYJSbAevFTBIMVx1XYVPqyXthWfP1O7ohIOLJWzYZxFBhgeRHwtQPAykfYE&rct=j&q=&esrc=s&sa=U&ved=0ahUKEwil7oHv8Zz8AhXVqpUCHdQ1A5oQguUECIUU&usg=AOvVaw2XtPgsK-068FLQ0FgE22QH'), ('smartphone samsung galaxy z flip4 5g 128gb rose 8gb ram', 5269.0, 'https://www.google.com/url?url=https://www.buscape.com.br/lead%3Foid%3D941723521%26sortorder%3D-1%26index%3D%26searchterm%3Dnull%26pagesize%3D-1%26channel%3D%26og%3D19221%26pla%3D2022-12-28T14:49:25.993274&rct=j&q=&esrc=s&sa=U&ved=0ahUKEwil7oHv8Zz8AhXVqpUCHdQ1A5oQguUECLUU&usg=AOvVaw3INAnA7OyhJ1edojc5F2GY'), ('smartphone samsung galaxy a22 128gb 4gb ram rede 5g - cinza', 1614.9, 'https://www.google.com/url?url=https://www.lojasguaibim.com.br/smartphone-samsung-a22-128gb-cinza-5g-4gb-camera-tripla-selfie-8mp-6-6/p%3Fidsku%3D1567&rct=j&q=&esrc=s&sa=U&ved=0ahUKEwil7oHv8Zz8AhXVqpUCHdQ1A5oQguUECMUU&usg=AOvVaw0Q-4OZx6yTa21tQdo9R9Y0'), ('smartphone samsung galaxy m31 tela infinita de 6.4 128gb 6gb ram', 1009.0, 'https://www.google.com/url?url=https://www.kabum.com.br/produto/255201/usado-smartphone-samsung-galaxy-m31-128gb-octa-core-camera-64mp-tela-6-4-azul-bom%3Fsrsltid%3DAYJSbAfi980-DuRNTnTc52HaQCE4HtCb1EXM71bnqBJzHmgl2uHkdMEqu24&rct=j&q=&esrc=s&sa=U&ved=0ahUKEwil7oHv8Zz8AhXVqpUCHdQ1A5oQguUECNUU&usg=AOvVaw0-O53yu__dkgISSaLQ-pI-'), ('smartphone samsung galaxy a52 128gb 6gb ram - branco', 1899.0, 'https://www.google.com/url?url=https://www.zoom.com.br/lead%3Foid%3D885847034%26sortorder%3D-1%26index%3D%26searchterm%3Dnull%26pagesize%3D-1%26channel%3D%26og%3D19221%26pla%3D2022-12-28T14:51:29.654785&rct=j&q=&esrc=s&sa=U&ved=0ahUKEwil7oHv8Zz8AhXVqpUCHdQ1A5oQguUECOUU&usg=AOvVaw3pLcq_JmhmdbWWSK7EUhIY'), ('smartphone samsung galaxy xcover pro 64gb/4gb- preto', 1529.1, 'https://www.google.com/url?url=https://www.girafa.com.br/p/smartphone-samsung-galaxy-xcover-pro-4g-64gb-6-3-preto-2-cameras-traseiras.htm%3Futm_source%3Dgoogle%26medium%3Dshopping%26campaign%3Dallproducts%26pfmPage%3Dgoogleads%26pfmPos%3Dmaintop1%26pfm_carac%3Dgoogleads&rct=j&q=&esrc=s&sa=U&ved=0ahUKEwil7oHv8Zz8AhXVqpUCHdQ1A5oQguUECPUU&usg=AOvVaw0rj59m2uyQHaVblopM7wzY'), ('smartphone galaxy m32 tela 6.4 128gb 6gb ram azul samsung', 2099.0, 'https://www.google.com/url?url=https://www.onstores.com.br/smartphone-samsung-galaxy-m32-azul-128gb-6gb-ram-camera-quadrupla-selfie-de-20mp-tela-infinita-de-6-4-de-90hz-octa-core-e-bateria-de-5000mah-876749/p%3Fidsku%3D980336&rct=j&q=&esrc=s&sa=U&ved=0ahUKEwil7oHv8Zz8AhXVqpUCHdQ1A5oQguUECKQV&usg=AOvVaw31tm2V7xmpmRTAG6Q9CYcq'), ('smartphone samsung galaxy s20 fe 5g, 128gb, 6gb ram, câmera tripla, tela infinita ...', 2806.93, 'https://www.google.com/url?url=https://www.clubeextra.com.br/produto/1549978%3FstoreId%3D241%26isGoogleShopping%3Dtrue&rct=j&q=&esrc=s&sa=U&ved=0ahUKEwil7oHv8Zz8AhXVqpUCHdQ1A5oQguUECNMV&usg=AOvVaw0D7xEinMRt6G0AyVdLehvQ'), ('smartphone samsung galaxy s10 branco 128gb', 4999.0, 'https://www.google.com/url?url=https://www.shoppingsmiles.com.br/smiles/produto.jsf%3Fs%3D1555508-00%26p%3D1555508_8%26a%3Dtrue&rct=j&q=&esrc=s&sa=U&ved=0ahUKEwil7oHv8Zz8AhXVqpUCHdQ1A5oQguUECOMV&usg=AOvVaw2NVNNsL2ulv--nkP6F28rK'), ('smartphone samsung galaxy a03 64gb 4gb ram - azul', 1036.79, 'https://www.google.com/url?url=https://www.lojasunilar.com.br/smartphone-samsung-galaxy-a03-octa-core-dual-chip-android-10-tela-6-5--64gb-4g-wi-fi-camera-48mp---2-0mp-azul/p%3Fidsku%3D3103&rct=j&q=&esrc=s&sa=U&ved=0ahUKEwil7oHv8Zz8AhXVqpUCHdQ1A5oQguUECPMV&usg=AOvVaw0Kui3eIIHMD71sV57WVfCq'), ('smartphone samsung galaxy a73 5g 128gb branco 8gb ram', 2519.1, 'https://www.google.com/url?url=https://www.pontofrio.com.br/smartphone-samsung-galaxy-a73-5g-8gb-ram-128gb-dual-chip-tela-infinita-de-67-quot-branco-1537135056/p/1537135056%3Futm_medium%3Dcpc%26utm_source%3Dgoogle_freelisting%26IdSku%3D1537135056%26idLojista%3D209633%26tipoLojista%3D3P&rct=j&q=&esrc=s&sa=U&ved=0ahUKEwil7oHv8Zz8AhXVqpUCHdQ1A5oQguUECJQW&usg=AOvVaw39SomALClVepB_mG635YAO'), ('usado: samsung galaxy s20 fe 128gb ram: 6gb cloud navy muito bom - trocafone', 1442.32, 'https://www.google.com/url?url=https://www.magazineluiza.com.br/usado-samsung-galaxy-s20-fe-128gb-ram-6gb-cloud-navy-muito-bom-trocafone/p/dee937hfk9/te/gs2f/%3F%26seller_id%3Dtrocafone&rct=j&q=&esrc=s&sa=U&ved=0ahUKEwil7oHv8Zz8AhXVqpUCHdQ1A5oQgOUECKIW&usg=AOvVaw0L0y9PCevH8J9z8V0Ztwf4'), ('smartphone samsung galaxy a23 128gb 4gb ram - preto', 2120.54, 'https://www.google.com/url?url=https://www.benoit.com.br/smartphone-samsung-galaxy-a23-128gb-4gb-ram-octacore-cam-quadrupla-50mp-5mp-2mp-2mp-10007563-p1045289%3Ftsid%3D33%26v%3D1045288&rct=j&q=&esrc=s&sa=U&ved=0ahUKEwil7oHv8Zz8AhXVqpUCHdQ1A5oQguUECLMW&usg=AOvVaw26ikL7q2Yh5KrR2fOg-S-h'), ('smartphone galaxy a10s 32gb samsung azul', 999.99, 'https://www.google.com/url?url=https://www.farmaciaindiana.com.br/samsung-galaxy-a10s-32gb-dual-chip-4g-tela-infinita-6-2-camera-dupla-13mp-2mp-azul/p%3Fidsku%3D136225&rct=j&q=&esrc=s&sa=U&ved=0ahUKEwil7oHv8Zz8AhXVqpUCHdQ1A5oQguUECMMW&usg=AOvVaw2UNvb_0I03AWDr4bABSY4U'), ('smartphone a22 galaxy 128 gb 4gb ram samsung, preto', 1489.0, 'https://www.google.com/url?url=https://www.compracerta.com.br/smartphone-samsung-galaxy-a22-128gb-4gb-ram-4g-wi-fi-camera-quadrupla---selfie-13mp-tela-6-4--preto-2061219/p%3Futm_source%3Dgoogle%26utm_medium%3Dorganic%26utm_content%3Dshopping&rct=j&q=&esrc=s&sa=U&ved=0ahUKEwil7oHv8Zz8AhXVqpUCHdQ1A5oQguUECOIW&usg=AOvVaw2AfwkX_1dc71CXa-n-D3Bj'), ('smartphone samsung galaxy a21s 64gb preto', 2100.74, 'https://www.google.com/url?url=https://www.lojasolar.com.br/smartphone-galaxy-a21s-64gb-preto-a217-samsung/p%3Fidsku%3D2075&rct=j&q=&esrc=s&sa=U&ved=0ahUKEwil7oHv8Zz8AhXVqpUCHdQ1A5oQguUECPIW&usg=AOvVaw33Y5tlkmg67BNSBJisFDkz'), ('smartphone samsung galaxy a12 64 gb 4 gb ram azul', 1158.05, 'https://www.google.com/url?url=https://www.ferreiracosta.com/produto/427985%3Fsrsltid%3DAYJSbAfKJXB2X62RzH2_CC9YBzAHH_oU13HvVgI-3f_DCjjT0DBbf1pbE28%26region_id%3D222222&rct=j&q=&esrc=s&sa=U&ved=0ahUKEwil7oHv8Zz8AhXVqpUCHdQ1A5oQguUECIQX&usg=AOvVaw3_WXhet6bWY-FJYagxbrZN'), ('smartphone samsung galaxy m12 64gb dual chip 4gb ram azul', 1357.55, 'https://www.google.com/url?url=https://www.efacil.com.br/loja/produto/smartphone-samsung-galaxy-m12-azul-tela-65-4gwi-finfc-and-11-cam-tras-de-48522mp-frontal-de-8mp-4gb-ram-64gb-3303965/%3Fcanal%3Dca_9784&rct=j&q=&esrc=s&sa=U&ved=0ahUKEwil7oHv8Zz8AhXVqpUCHdQ1A5oQguUECKMX&usg=AOvVaw0oPfr8GMRYbuU2y64WTp3Y'), ('smartphone samsung galaxy a32 128gb preto', 1349.0, 'https://www.google.com/url?url=https://lojaonline.tim.com.br/produto/samsung-galaxy-a32-4g-35355%3Fplano%3Dcontrole-20gb-fid&rct=j&q=&esrc=s&sa=U&ved=0ahUKEwil7oHv8Zz8AhXVqpUCHdQ1A5oQguUECLMX&usg=AOvVaw1rhh179JdeslKI6GxL8cTd'), ('smartphone samsung galaxy z flip3 5g, dobrável, 128gb, 8gb de ram, tela de 6.7 ...', 3999.0, 'https://www.google.com/url?url=/shopping/product/6951537590786584819%3Fprds%3Doid:3169281692034698805,pid:13966284596442358258%26sts%3D9%26hl%3Dpt%26lsf%3Dseller:120324600,store:3773602667449386820,s:h&rct=j&q=&esrc=s&sa=U&ved=0ahUKEwil7oHv8Zz8AhXVqpUCHdQ1A5oQ_uQECMMX&usg=AOvVaw1bIyQJP8y1oiS2jlQIse2W')]\n"
     ]
    }
   ],
   "source": [
    "print(lista_produtos)"
   ]
  },
  {
   "cell_type": "code",
   "execution_count": 23,
   "id": "0366b218",
   "metadata": {
    "scrolled": true
   },
   "outputs": [],
   "source": [
    "def busca_buscape(navegador, produto, termos_banidos, preco_minimo, preco_maximo):\n",
    "    # tratar os valores da função\n",
    "    preco_maximo = float(preco_maximo)\n",
    "    preco_minimo = float(preco_minimo)\n",
    "    produto = produto.lower()\n",
    "    termos_banidos = termos_banidos.lower()\n",
    "    lista_termos_banidos = termos_banidos.split(\" \")\n",
    "    lista_termos_produto = produto.split(\" \")\n",
    "    \n",
    "    \n",
    "    # entrar no buscape\n",
    "    navegador.get(\"https://www.buscape.com.br/\")\n",
    "    \n",
    "    # pesquisar pelo produto no buscape\n",
    "    navegador.find_element(By.XPATH, '//*[@id=\"new-header\"]/div[1]/div/div/div[3]/div/div/div[2]/div/div[1]/input').send_keys(produto, Keys.ENTER)\n",
    "    \n",
    "    # pegar a lista de resultados da busca do buscape\n",
    "    time.sleep(5)\n",
    "    lista_resultados = navegador.find_elements(By.CLASS_NAME, 'SearchCard_ProductCard_Inner__7JhKb')\n",
    "    \n",
    "    # para cada resultado\n",
    "    lista_ofertas = []\n",
    "    for resultado in lista_resultados:\n",
    "        try:\n",
    "            preco = resultado.find_element(By.CLASS_NAME, 'Text_Text__h_AF6.Text_MobileHeadingS__Zxam2').text\n",
    "            nome = resultado.find_element(By.CLASS_NAME,'Text_Text__h_AF6.Text_MobileLabelXs__ER_cD.Text_DesktopLabelSAtLarge__baj_g.SearchCard_ProductCard_Name__ZaO5o').text\n",
    "            nome = nome.lower()\n",
    "            link = resultado.get_attribute('href')\n",
    "            \n",
    "            # verificacao do nome - se no nome tem algum termo banido\n",
    "            tem_termos_banidos = False\n",
    "            for palavra in lista_termos_banidos:\n",
    "                if palavra in nome:\n",
    "                    tem_termos_banidos = True  \n",
    "                    \n",
    "            # verificar se no nome tem todos os termos do nome do produto\n",
    "            tem_todos_termos_produto = True\n",
    "            for palavra in lista_termos_produto:\n",
    "                if palavra not in nome:\n",
    "                    tem_todos_termos_produto = False            \n",
    "            \n",
    "            if not tem_termos_banidos and tem_todos_termos_produto:\n",
    "                preco = preco.replace(\"R$\", \"\").replace(\" \", \"\").replace(\".\", \"\").replace(\",\", \".\")\n",
    "                preco = float(preco)\n",
    "                if preco_minimo <= preco <= preco_maximo:\n",
    "                    lista_ofertas.append((nome, preco, link))\n",
    "        except:\n",
    "            pass\n",
    "    return lista_ofertas"
   ]
  },
  {
   "cell_type": "code",
   "execution_count": 30,
   "id": "03e2acbc",
   "metadata": {},
   "outputs": [],
   "source": [
    "produto = 'iphone 11 64 gb'\n",
    "termos_banidos = 'mini watch'\n",
    "preco_minimo = 2000\n",
    "preco_maximo = 12000\n",
    "\n",
    "lista_ofertas_busca = busca_buscape(navegador, produto, termos_banidos, preco_minimo, preco_maximo)"
   ]
  },
  {
   "cell_type": "code",
   "execution_count": 31,
   "id": "f9127757",
   "metadata": {},
   "outputs": [
    {
     "name": "stdout",
     "output_type": "stream",
     "text": [
      "[('smartphone apple iphone 11 64gb câmera dupla', 2930.0, 'https://www.buscape.com.br/celular/smartphone-apple-iphone-11-64gb-ios?_lc=88&searchterm=iphone%2011%2064%20gb'), ('smartphone apple iphone 11 vermelho 64gb câmera dupla', 2998.45, 'https://www.buscape.com.br/celular/smartphone-apple-iphone-11-vermelho-64gb-ios?_lc=88&searchterm=iphone%2011%2064%20gb'), ('smartphone apple iphone 11 pro max 64gb câmera tripla', 4297.0, 'https://www.buscape.com.br/celular/smartphone-apple-iphone-11-pro-max-64gb-ios?_lc=88&searchterm=iphone%2011%2064%20gb'), ('smartphone apple iphone 11 usado 64gb câmera dupla', 2559.92, 'https://www.buscape.com.br/celular/smartphone-apple-iphone-11-usado-64gb-ios?_lc=88&searchterm=iphone%2011%2064%20gb'), ('smartphone apple iphone 11 pro max usado 64gb câmera tripla', 3800.72, 'https://www.buscape.com.br/celular/smartphone-apple-iphone-11-pro-max-usado-64gb-ios?_lc=88&searchterm=iphone%2011%2064%20gb'), ('smartphone apple iphone 11 pro usado 64gb câmera tripla', 3395.92, 'https://www.buscape.com.br/celular/smartphone-apple-iphone-11-pro-usado-64gb-ios?_lc=88&searchterm=iphone%2011%2064%20gb')]\n"
     ]
    }
   ],
   "source": [
    "print(lista_ofertas_busca)"
   ]
  }
 ],
 "metadata": {
  "kernelspec": {
   "display_name": "Python 3",
   "language": "python",
   "name": "python3"
  },
  "language_info": {
   "codemirror_mode": {
    "name": "ipython",
    "version": 3
   },
   "file_extension": ".py",
   "mimetype": "text/x-python",
   "name": "python",
   "nbconvert_exporter": "python",
   "pygments_lexer": "ipython3",
   "version": "3.9.12"
  }
 },
 "nbformat": 4,
 "nbformat_minor": 5
}
