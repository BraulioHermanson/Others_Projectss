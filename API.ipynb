{
 "cells": [
  {
   "cell_type": "code",
   "execution_count": 3,
   "id": "e75abe2b",
   "metadata": {},
   "outputs": [],
   "source": [
    "from flask import Flask\n",
    "import pandas as pd\n",
    "\n",
    "app = Flask(__name__) # site\n",
    "table = pd.read_excel(\"work.xlsx\",engine='openpyxl')\n",
    "\n",
    "@app.route(\"/\") # decorator\n",
    "def work(): # função\n",
    "    work = float(table[\"Time working\"].sum())\n",
    "    return {\"time working\": work}\n",
    "\n",
    "@app.route(\"/work/group\") \n",
    "def table_work(): \n",
    "    table_w = table.groupby('Day of the week').sum().reset_index()\n",
    "    dic_table_w = table_w.to_dict()\n",
    "    return dic_table_w"
   ]
  },
  {
   "cell_type": "code",
   "execution_count": null,
   "id": "c385063f",
   "metadata": {},
   "outputs": [],
   "source": [
    "import requests\n",
    "\n",
    "link = \"https://first-api.brauhermanson.repl.co/work/group\"\n",
    "\n",
    "requisicao = requests.get(link)"
   ]
  },
  {
   "cell_type": "code",
   "execution_count": 31,
   "id": "a4211a8f",
   "metadata": {},
   "outputs": [],
   "source": [
    "import requests\n",
    "\n",
    "link = \"https://first-api.brauhermanson.repl.co/work/group\"\n",
    "\n",
    "requisicao = requests.get(link)"
   ]
  },
  {
   "cell_type": "code",
   "execution_count": 32,
   "id": "65378cba",
   "metadata": {},
   "outputs": [
    {
     "name": "stdout",
     "output_type": "stream",
     "text": [
      "{'Day of the week': {'0': 'Monday', '1': 'Thursday', '2': 'Tuesday', '3': 'Wednesday'}, 'Time working': {'0': 22, '1': 28, '2': 22, '3': 16}}\n"
     ]
    }
   ],
   "source": [
    "print(requisicao.json())"
   ]
  }
 ],
 "metadata": {
  "kernelspec": {
   "display_name": "Python 3",
   "language": "python",
   "name": "python3"
  },
  "language_info": {
   "codemirror_mode": {
    "name": "ipython",
    "version": 3
   },
   "file_extension": ".py",
   "mimetype": "text/x-python",
   "name": "python",
   "nbconvert_exporter": "python",
   "pygments_lexer": "ipython3",
   "version": "3.9.12"
  }
 },
 "nbformat": 4,
 "nbformat_minor": 5
}
