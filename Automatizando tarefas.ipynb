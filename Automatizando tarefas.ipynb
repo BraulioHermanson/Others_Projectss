{
 "cells": [
  {
   "cell_type": "markdown",
   "id": "b2126e2b",
   "metadata": {},
   "source": [
    "## Documentation\n",
    "https://pyautogui.readthedocs.io/en/latest/"
   ]
  },
  {
   "cell_type": "code",
   "execution_count": 1,
   "id": "8b617e01",
   "metadata": {},
   "outputs": [],
   "source": [
    "import pyautogui\n",
    "import time"
   ]
  },
  {
   "cell_type": "code",
   "execution_count": 3,
   "id": "c2c3959f",
   "metadata": {
    "scrolled": true
   },
   "outputs": [],
   "source": [
    "pyautogui.PAUSE = 1\n",
    "\n",
    "pyautogui.alert('Just chill and click oK')\n",
    "#open your navegator\n",
    "pyautogui.press('win')\n",
    "\n",
    "pyautogui.write(\"brave\")\n",
    "\n",
    "pyautogui.press('enter')\n",
    "\n",
    "#enter on email account\n",
    "\n",
    "pyautogui.write(\"gmail\")\n",
    "pyautogui.press('enter')\n",
    "\n",
    "time.sleep(3)\n",
    "x, y, width, height = pyautogui.locateOnScreen(\"g_dot.png\")\n",
    "pyautogui.click(x + width/2, y + height/2)\n",
    "\n",
    "\n",
    "time.sleep(3)\n",
    "x, y, width, height = pyautogui.locateOnScreen(\"contact.png\")\n",
    "pyautogui.click(x + width/2, y + height/2)\n",
    "\n",
    "time.sleep(2)\n",
    "x, y, width, height = pyautogui.locateOnScreen(\"export1.png\")\n",
    "pyautogui.click(x + width/2, y + height/2)\n",
    "\n",
    "time.sleep(2)\n",
    "x, y, width, height = pyautogui.locateOnScreen(\"export2.png\")\n",
    "pyautogui.click(x + width/2, y + height/2)\n",
    "\n",
    "time.sleep(2)\n",
    "x, y, width, height = pyautogui.locateOnScreen(\"save.png\")\n",
    "pyautogui.click(x + width/2, y + height/2)"
   ]
  }
 ],
 "metadata": {
  "kernelspec": {
   "display_name": "Python 3 (ipykernel)",
   "language": "python",
   "name": "python3"
  },
  "language_info": {
   "codemirror_mode": {
    "name": "ipython",
    "version": 3
   },
   "file_extension": ".py",
   "mimetype": "text/x-python",
   "name": "python",
   "nbconvert_exporter": "python",
   "pygments_lexer": "ipython3",
   "version": "3.9.12"
  }
 },
 "nbformat": 4,
 "nbformat_minor": 5
}
