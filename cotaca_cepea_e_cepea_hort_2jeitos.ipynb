{
 "cells": [
  {
   "cell_type": "code",
   "execution_count": 4,
   "metadata": {},
   "outputs": [],
   "source": [
    "from selenium import webdriver\n",
    "from selenium.webdriver.chrome.service import Service\n",
    "from webdriver_manager.chrome import ChromeDriverManager\n",
    "from selenium.webdriver.common.by import By\n",
    "from selenium.webdriver.common.keys import Keys\n",
    "import time\n",
    "import pandas as pd\n",
    "\n",
    "servico = Service(ChromeDriverManager().install())\n",
    "navegador = webdriver.Chrome(service=servico)\n",
    "navegador.maximize_window()"
   ]
  },
  {
   "cell_type": "code",
   "execution_count": 12,
   "metadata": {},
   "outputs": [],
   "source": [
    "navegador.get('https://www.cepea.esalq.usp.br/br/indicador/milho.aspx')"
   ]
  },
  {
   "cell_type": "code",
   "execution_count": 28,
   "metadata": {},
   "outputs": [],
   "source": [
    "table_element = navegador.find_element(By.XPATH,'//*[@id=\"imagenet-content\"]/div[2]/div[2]/div[1]/div[2]/div[1]').text\n"
   ]
  },
  {
   "cell_type": "code",
   "execution_count": 92,
   "metadata": {},
   "outputs": [],
   "source": [
    "navegador.quit()"
   ]
  },
  {
   "cell_type": "code",
   "execution_count": 29,
   "metadata": {},
   "outputs": [
    {
     "data": {
      "text/plain": [
       "'  VALOR R$* VAR./DIA VAR./MÊS VALOR US$*\\n12/01/2024 67,24 -1,12% -2,85% 13,85\\n11/01/2024 68,00 -1,88% -1,75% 13,94\\n10/01/2024 69,30 -1,34% 0,13% 14,16\\n09/01/2024 70,24 0,17% 1,49% 14,33\\n08/01/2024 70,12 -0,50% 1,31% 14,39'"
      ]
     },
     "execution_count": 29,
     "metadata": {},
     "output_type": "execute_result"
    }
   ],
   "source": [
    "table_element"
   ]
  },
  {
   "cell_type": "code",
   "execution_count": 31,
   "metadata": {},
   "outputs": [],
   "source": [
    "tabela = table_element.split()"
   ]
  },
  {
   "cell_type": "code",
   "execution_count": 40,
   "metadata": {},
   "outputs": [
    {
     "data": {
      "text/html": [
       "<div>\n",
       "<style scoped>\n",
       "    .dataframe tbody tr th:only-of-type {\n",
       "        vertical-align: middle;\n",
       "    }\n",
       "\n",
       "    .dataframe tbody tr th {\n",
       "        vertical-align: top;\n",
       "    }\n",
       "\n",
       "    .dataframe thead th {\n",
       "        text-align: right;\n",
       "    }\n",
       "</style>\n",
       "<table border=\"1\" class=\"dataframe\">\n",
       "  <thead>\n",
       "    <tr style=\"text-align: right;\">\n",
       "      <th></th>\n",
       "      <th>0</th>\n",
       "      <th>1</th>\n",
       "      <th>2</th>\n",
       "      <th>3</th>\n",
       "      <th>4</th>\n",
       "      <th>5</th>\n",
       "      <th>6</th>\n",
       "      <th>7</th>\n",
       "      <th>8</th>\n",
       "      <th>9</th>\n",
       "      <th>...</th>\n",
       "      <th>21</th>\n",
       "      <th>22</th>\n",
       "      <th>23</th>\n",
       "      <th>24</th>\n",
       "      <th>25</th>\n",
       "      <th>26</th>\n",
       "      <th>27</th>\n",
       "      <th>28</th>\n",
       "      <th>29</th>\n",
       "      <th>30</th>\n",
       "    </tr>\n",
       "  </thead>\n",
       "  <tbody>\n",
       "    <tr>\n",
       "      <th>0</th>\n",
       "      <td>VALOR</td>\n",
       "      <td>R$*</td>\n",
       "      <td>VAR./DIA</td>\n",
       "      <td>VAR./MÊS</td>\n",
       "      <td>VALOR</td>\n",
       "      <td>US$*</td>\n",
       "      <td>12/01/2024</td>\n",
       "      <td>67,24</td>\n",
       "      <td>-1,12%</td>\n",
       "      <td>-2,85%</td>\n",
       "      <td>...</td>\n",
       "      <td>09/01/2024</td>\n",
       "      <td>70,24</td>\n",
       "      <td>0,17%</td>\n",
       "      <td>1,49%</td>\n",
       "      <td>14,33</td>\n",
       "      <td>08/01/2024</td>\n",
       "      <td>70,12</td>\n",
       "      <td>-0,50%</td>\n",
       "      <td>1,31%</td>\n",
       "      <td>14,39</td>\n",
       "    </tr>\n",
       "  </tbody>\n",
       "</table>\n",
       "<p>1 rows × 31 columns</p>\n",
       "</div>"
      ],
      "text/plain": [
       "      0    1         2         3      4     5           6      7       8   \\\n",
       "0  VALOR  R$*  VAR./DIA  VAR./MÊS  VALOR  US$*  12/01/2024  67,24  -1,12%   \n",
       "\n",
       "       9   ...          21     22     23     24     25          26     27  \\\n",
       "0  -2,85%  ...  09/01/2024  70,24  0,17%  1,49%  14,33  08/01/2024  70,12   \n",
       "\n",
       "       28     29     30  \n",
       "0  -0,50%  1,31%  14,39  \n",
       "\n",
       "[1 rows x 31 columns]"
      ]
     },
     "execution_count": 40,
     "metadata": {},
     "output_type": "execute_result"
    }
   ],
   "source": [
    "df = pd.DataFrame(tabela)\n",
    "df.T"
   ]
  },
  {
   "cell_type": "code",
   "execution_count": 77,
   "metadata": {},
   "outputs": [
    {
     "data": {
      "text/html": [
       "<div>\n",
       "<style scoped>\n",
       "    .dataframe tbody tr th:only-of-type {\n",
       "        vertical-align: middle;\n",
       "    }\n",
       "\n",
       "    .dataframe tbody tr th {\n",
       "        vertical-align: top;\n",
       "    }\n",
       "\n",
       "    .dataframe thead th {\n",
       "        text-align: right;\n",
       "    }\n",
       "</style>\n",
       "<table border=\"1\" class=\"dataframe\">\n",
       "  <thead>\n",
       "    <tr style=\"text-align: right;\">\n",
       "      <th></th>\n",
       "      <th>0</th>\n",
       "      <th>1</th>\n",
       "      <th>2</th>\n",
       "      <th>3</th>\n",
       "      <th>4</th>\n",
       "      <th>5</th>\n",
       "    </tr>\n",
       "  </thead>\n",
       "  <tbody>\n",
       "    <tr>\n",
       "      <th>0</th>\n",
       "      <td>VALOR</td>\n",
       "      <td>R$*</td>\n",
       "      <td>VAR./DIA</td>\n",
       "      <td>VAR./MÊS</td>\n",
       "      <td>VALOR</td>\n",
       "      <td>US$*</td>\n",
       "    </tr>\n",
       "  </tbody>\n",
       "</table>\n",
       "</div>"
      ],
      "text/plain": [
       "       0    1         2         3      4     5\n",
       "0  VALOR  R$*  VAR./DIA  VAR./MÊS  VALOR  US$*"
      ]
     },
     "execution_count": 77,
     "metadata": {},
     "output_type": "execute_result"
    }
   ],
   "source": [
    "cabecalho = df[0:6].T\n",
    "cabecalho"
   ]
  },
  {
   "cell_type": "code",
   "execution_count": 78,
   "metadata": {},
   "outputs": [],
   "source": [
    "cabecalho.rename(columns={0:'DATA',\n",
    "                          1:'VALOR R$*',\n",
    "                          2:'VAR./DIA',\n",
    "                          3:'VAR./MÊS',\n",
    "                          4:'VALOR US$*'},inplace=True)"
   ]
  },
  {
   "cell_type": "code",
   "execution_count": 80,
   "metadata": {},
   "outputs": [],
   "source": [
    "cabecalho.drop(labels=[5],axis=1,inplace=True)"
   ]
  },
  {
   "cell_type": "code",
   "execution_count": 81,
   "metadata": {},
   "outputs": [],
   "source": [
    "linha_dia = df[6:11].T"
   ]
  },
  {
   "cell_type": "code",
   "execution_count": 82,
   "metadata": {},
   "outputs": [
    {
     "data": {
      "text/html": [
       "<div>\n",
       "<style scoped>\n",
       "    .dataframe tbody tr th:only-of-type {\n",
       "        vertical-align: middle;\n",
       "    }\n",
       "\n",
       "    .dataframe tbody tr th {\n",
       "        vertical-align: top;\n",
       "    }\n",
       "\n",
       "    .dataframe thead th {\n",
       "        text-align: right;\n",
       "    }\n",
       "</style>\n",
       "<table border=\"1\" class=\"dataframe\">\n",
       "  <thead>\n",
       "    <tr style=\"text-align: right;\">\n",
       "      <th></th>\n",
       "      <th>6</th>\n",
       "      <th>7</th>\n",
       "      <th>8</th>\n",
       "      <th>9</th>\n",
       "      <th>10</th>\n",
       "    </tr>\n",
       "  </thead>\n",
       "  <tbody>\n",
       "    <tr>\n",
       "      <th>0</th>\n",
       "      <td>12/01/2024</td>\n",
       "      <td>67,24</td>\n",
       "      <td>-1,12%</td>\n",
       "      <td>-2,85%</td>\n",
       "      <td>13,85</td>\n",
       "    </tr>\n",
       "  </tbody>\n",
       "</table>\n",
       "</div>"
      ],
      "text/plain": [
       "           6      7       8       9      10\n",
       "0  12/01/2024  67,24  -1,12%  -2,85%  13,85"
      ]
     },
     "execution_count": 82,
     "metadata": {},
     "output_type": "execute_result"
    }
   ],
   "source": [
    "linha_dia"
   ]
  },
  {
   "cell_type": "code",
   "execution_count": 83,
   "metadata": {},
   "outputs": [],
   "source": [
    "linha_dia.columns = cabecalho.columns"
   ]
  },
  {
   "cell_type": "code",
   "execution_count": 84,
   "metadata": {},
   "outputs": [
    {
     "data": {
      "text/html": [
       "<div>\n",
       "<style scoped>\n",
       "    .dataframe tbody tr th:only-of-type {\n",
       "        vertical-align: middle;\n",
       "    }\n",
       "\n",
       "    .dataframe tbody tr th {\n",
       "        vertical-align: top;\n",
       "    }\n",
       "\n",
       "    .dataframe thead th {\n",
       "        text-align: right;\n",
       "    }\n",
       "</style>\n",
       "<table border=\"1\" class=\"dataframe\">\n",
       "  <thead>\n",
       "    <tr style=\"text-align: right;\">\n",
       "      <th></th>\n",
       "      <th>DATA</th>\n",
       "      <th>VALOR R$*</th>\n",
       "      <th>VAR./DIA</th>\n",
       "      <th>VAR./MÊS</th>\n",
       "      <th>VALOR US$*</th>\n",
       "    </tr>\n",
       "  </thead>\n",
       "  <tbody>\n",
       "    <tr>\n",
       "      <th>0</th>\n",
       "      <td>12/01/2024</td>\n",
       "      <td>67,24</td>\n",
       "      <td>-1,12%</td>\n",
       "      <td>-2,85%</td>\n",
       "      <td>13,85</td>\n",
       "    </tr>\n",
       "  </tbody>\n",
       "</table>\n",
       "</div>"
      ],
      "text/plain": [
       "         DATA VALOR R$* VAR./DIA VAR./MÊS VALOR US$*\n",
       "0  12/01/2024     67,24   -1,12%   -2,85%      13,85"
      ]
     },
     "execution_count": 84,
     "metadata": {},
     "output_type": "execute_result"
    }
   ],
   "source": [
    "linha_dia"
   ]
  },
  {
   "cell_type": "code",
   "execution_count": 87,
   "metadata": {},
   "outputs": [],
   "source": [
    "# linha_dia.to_excel('milhos.xlsx',index=False)"
   ]
  },
  {
   "cell_type": "code",
   "execution_count": 88,
   "metadata": {},
   "outputs": [
    {
     "data": {
      "text/html": [
       "<div>\n",
       "<style scoped>\n",
       "    .dataframe tbody tr th:only-of-type {\n",
       "        vertical-align: middle;\n",
       "    }\n",
       "\n",
       "    .dataframe tbody tr th {\n",
       "        vertical-align: top;\n",
       "    }\n",
       "\n",
       "    .dataframe thead th {\n",
       "        text-align: right;\n",
       "    }\n",
       "</style>\n",
       "<table border=\"1\" class=\"dataframe\">\n",
       "  <thead>\n",
       "    <tr style=\"text-align: right;\">\n",
       "      <th></th>\n",
       "      <th>DATA</th>\n",
       "      <th>VALOR R$*</th>\n",
       "      <th>VAR./DIA</th>\n",
       "      <th>VAR./MÊS</th>\n",
       "      <th>VALOR US$*</th>\n",
       "    </tr>\n",
       "  </thead>\n",
       "  <tbody>\n",
       "    <tr>\n",
       "      <th>0</th>\n",
       "      <td>12/01/2024</td>\n",
       "      <td>67,24</td>\n",
       "      <td>-1,12%</td>\n",
       "      <td>-2,85%</td>\n",
       "      <td>13,85</td>\n",
       "    </tr>\n",
       "  </tbody>\n",
       "</table>\n",
       "</div>"
      ],
      "text/plain": [
       "         DATA VALOR R$* VAR./DIA VAR./MÊS VALOR US$*\n",
       "0  12/01/2024     67,24   -1,12%   -2,85%      13,85"
      ]
     },
     "execution_count": 88,
     "metadata": {},
     "output_type": "execute_result"
    }
   ],
   "source": [
    "base = pd.read_excel('milhos.xlsx')\n",
    "base"
   ]
  },
  {
   "cell_type": "code",
   "execution_count": 89,
   "metadata": {},
   "outputs": [],
   "source": [
    "base_add = pd.concat([base,linha_dia])"
   ]
  },
  {
   "cell_type": "code",
   "execution_count": 94,
   "metadata": {},
   "outputs": [],
   "source": [
    "base_add.drop_duplicates(inplace=True)"
   ]
  },
  {
   "cell_type": "code",
   "execution_count": 95,
   "metadata": {},
   "outputs": [],
   "source": [
    "base_add.to_excel('milhos.xlsx',index=False)"
   ]
  },
  {
   "cell_type": "markdown",
   "metadata": {},
   "source": [
    "# Hortifrutis cepea banco de dados"
   ]
  },
  {
   "cell_type": "code",
   "execution_count": 6,
   "metadata": {},
   "outputs": [],
   "source": [
    "navegador.get('https://www.hfbrasil.org.br/br/banco-de-dados-precos-medios-dos-hortifruticolas.aspx')"
   ]
  },
  {
   "cell_type": "code",
   "execution_count": 7,
   "metadata": {},
   "outputs": [],
   "source": [
    "time.sleep(1)\n",
    "navegador.find_element(By.XPATH,'//*[@id=\"produto-4\"]').click()\n",
    "\n",
    "time.sleep(5)\n",
    "navegador.find_element(By.XPATH,'//*[@id=\"frm-busca-avancada\"]/div/div/div[2]/div[3]/label').click()\n",
    "\n",
    "time.sleep(5)\n",
    "navegador.find_element(By.XPATH,'//*[@id=\"frm-busca-avancada\"]/div/div/div[3]/div[2]/label').click()\n",
    "\n",
    "time.sleep(5)\n",
    "navegador.find_element(By.XPATH,'//*[@id=\"frm-busca-avancada\"]/div/div/div[3]/div[7]/button').click()\n",
    "\n",
    "\n",
    "time.sleep(5)\n",
    "navegador.find_element(By.XPATH,'//*[@id=\"frm-busca-avancada\"]/div/div/div[3]/div[7]/a[2]/img').click()"
   ]
  },
  {
   "cell_type": "code",
   "execution_count": null,
   "metadata": {},
   "outputs": [],
   "source": [
    "import os\n",
    "import fnmatch\n",
    "\n",
    "def get_files_by_name_part(folder_path, name_part):\n",
    "    matching_files = []\n",
    "    \n",
    "    # Walk through the folder and its subdirectories\n",
    "    for root, dirs, files in os.walk(folder_path):\n",
    "        for file_name in fnmatch.filter(files, f\"*{name_part}*\"):\n",
    "            # Check if the file name contains the specified part\n",
    "            matching_files.append(os.path.join(root, file_name))\n",
    "    \n",
    "    return matching_files\n",
    "\n",
    "# Example usage\n",
    "folder_path = 'C:/Users/braul/Downloads'  # Replace with the actual folder path\n",
    "name_part = 'precos-medios'  # Replace with the part of the name you're looking for\n",
    "\n",
    "result = get_files_by_name_part(folder_path, name_part)\n",
    "\n",
    "# Print the matching files\n",
    "for file_path in result:\n",
    "    print(file_path)"
   ]
  },
  {
   "cell_type": "code",
   "execution_count": 12,
   "metadata": {},
   "outputs": [],
   "source": [
    "df = pd.read_excel(file_path)"
   ]
  },
  {
   "cell_type": "code",
   "execution_count": 13,
   "metadata": {},
   "outputs": [
    {
     "data": {
      "text/html": [
       "<div>\n",
       "<style scoped>\n",
       "    .dataframe tbody tr th:only-of-type {\n",
       "        vertical-align: middle;\n",
       "    }\n",
       "\n",
       "    .dataframe tbody tr th {\n",
       "        vertical-align: top;\n",
       "    }\n",
       "\n",
       "    .dataframe thead th {\n",
       "        text-align: right;\n",
       "    }\n",
       "</style>\n",
       "<table border=\"1\" class=\"dataframe\">\n",
       "  <thead>\n",
       "    <tr style=\"text-align: right;\">\n",
       "      <th></th>\n",
       "      <th>Produto</th>\n",
       "      <th>Região</th>\n",
       "      <th>Dia</th>\n",
       "      <th>Mês</th>\n",
       "      <th>Ano</th>\n",
       "      <th>Moeda</th>\n",
       "      <th>Unidade</th>\n",
       "      <th>Preço</th>\n",
       "    </tr>\n",
       "  </thead>\n",
       "  <tbody>\n",
       "    <tr>\n",
       "      <th>0</th>\n",
       "      <td>Nanica primeira - atacado</td>\n",
       "      <td>São Paulo (capital)</td>\n",
       "      <td>12.0</td>\n",
       "      <td>1.0</td>\n",
       "      <td>2024.0</td>\n",
       "      <td>R$</td>\n",
       "      <td>caixa de 22 Kg</td>\n",
       "      <td>60.67</td>\n",
       "    </tr>\n",
       "    <tr>\n",
       "      <th>1</th>\n",
       "      <td>Nanica primeira - produtor</td>\n",
       "      <td>Bom Jesus da Lapa</td>\n",
       "      <td>12.0</td>\n",
       "      <td>1.0</td>\n",
       "      <td>2024.0</td>\n",
       "      <td>R$</td>\n",
       "      <td>quilograma</td>\n",
       "      <td>2.40</td>\n",
       "    </tr>\n",
       "    <tr>\n",
       "      <th>2</th>\n",
       "      <td>Nanica primeira - produtor</td>\n",
       "      <td>Norte de Minas Gerais</td>\n",
       "      <td>12.0</td>\n",
       "      <td>1.0</td>\n",
       "      <td>2024.0</td>\n",
       "      <td>R$</td>\n",
       "      <td>quilograma</td>\n",
       "      <td>2.17</td>\n",
       "    </tr>\n",
       "    <tr>\n",
       "      <th>3</th>\n",
       "      <td>Nanica primeira - produtor</td>\n",
       "      <td>Norte de Santa Catarina</td>\n",
       "      <td>12.0</td>\n",
       "      <td>1.0</td>\n",
       "      <td>2024.0</td>\n",
       "      <td>R$</td>\n",
       "      <td>quilograma</td>\n",
       "      <td>0.96</td>\n",
       "    </tr>\n",
       "    <tr>\n",
       "      <th>4</th>\n",
       "      <td>Nanica primeira - produtor</td>\n",
       "      <td>Vale do Ribeira</td>\n",
       "      <td>12.0</td>\n",
       "      <td>1.0</td>\n",
       "      <td>2024.0</td>\n",
       "      <td>R$</td>\n",
       "      <td>quilograma</td>\n",
       "      <td>1.98</td>\n",
       "    </tr>\n",
       "    <tr>\n",
       "      <th>5</th>\n",
       "      <td>Prata anã primeira - atacado</td>\n",
       "      <td>São Paulo (capital)</td>\n",
       "      <td>12.0</td>\n",
       "      <td>1.0</td>\n",
       "      <td>2024.0</td>\n",
       "      <td>R$</td>\n",
       "      <td>Caixa 20 Kg</td>\n",
       "      <td>130.00</td>\n",
       "    </tr>\n",
       "    <tr>\n",
       "      <th>6</th>\n",
       "      <td>Prata anã primeira - produtor</td>\n",
       "      <td>Bom Jesus da Lapa</td>\n",
       "      <td>12.0</td>\n",
       "      <td>1.0</td>\n",
       "      <td>2024.0</td>\n",
       "      <td>R$</td>\n",
       "      <td>quilograma</td>\n",
       "      <td>5.46</td>\n",
       "    </tr>\n",
       "    <tr>\n",
       "      <th>7</th>\n",
       "      <td>Prata anã primeira - produtor</td>\n",
       "      <td>Delfinópolis</td>\n",
       "      <td>12.0</td>\n",
       "      <td>1.0</td>\n",
       "      <td>2024.0</td>\n",
       "      <td>R$</td>\n",
       "      <td>quilograma</td>\n",
       "      <td>5.53</td>\n",
       "    </tr>\n",
       "    <tr>\n",
       "      <th>8</th>\n",
       "      <td>Prata anã primeira - produtor</td>\n",
       "      <td>Linhares</td>\n",
       "      <td>12.0</td>\n",
       "      <td>1.0</td>\n",
       "      <td>2024.0</td>\n",
       "      <td>R$</td>\n",
       "      <td>quilograma</td>\n",
       "      <td>5.26</td>\n",
       "    </tr>\n",
       "    <tr>\n",
       "      <th>9</th>\n",
       "      <td>Prata anã primeira - produtor</td>\n",
       "      <td>Norte de Minas Gerais</td>\n",
       "      <td>12.0</td>\n",
       "      <td>1.0</td>\n",
       "      <td>2024.0</td>\n",
       "      <td>R$</td>\n",
       "      <td>quilograma</td>\n",
       "      <td>5.50</td>\n",
       "    </tr>\n",
       "    <tr>\n",
       "      <th>10</th>\n",
       "      <td>Prata anã primeira - produtor</td>\n",
       "      <td>Vale do São Francisco</td>\n",
       "      <td>12.0</td>\n",
       "      <td>1.0</td>\n",
       "      <td>2024.0</td>\n",
       "      <td>R$</td>\n",
       "      <td>quilograma</td>\n",
       "      <td>4.53</td>\n",
       "    </tr>\n",
       "    <tr>\n",
       "      <th>11</th>\n",
       "      <td>Prata litoral primeira - atacado</td>\n",
       "      <td>São Paulo (capital)</td>\n",
       "      <td>12.0</td>\n",
       "      <td>1.0</td>\n",
       "      <td>2024.0</td>\n",
       "      <td>R$</td>\n",
       "      <td>Caixa 20 Kg</td>\n",
       "      <td>82.50</td>\n",
       "    </tr>\n",
       "    <tr>\n",
       "      <th>12</th>\n",
       "      <td>Prata litoral primeira - produtor</td>\n",
       "      <td>Norte de Santa Catarina</td>\n",
       "      <td>12.0</td>\n",
       "      <td>1.0</td>\n",
       "      <td>2024.0</td>\n",
       "      <td>R$</td>\n",
       "      <td>quilograma</td>\n",
       "      <td>2.38</td>\n",
       "    </tr>\n",
       "    <tr>\n",
       "      <th>13</th>\n",
       "      <td>Prata litoral primeira - produtor</td>\n",
       "      <td>Vale do Ribeira</td>\n",
       "      <td>12.0</td>\n",
       "      <td>1.0</td>\n",
       "      <td>2024.0</td>\n",
       "      <td>R$</td>\n",
       "      <td>quilograma</td>\n",
       "      <td>4.16</td>\n",
       "    </tr>\n",
       "    <tr>\n",
       "      <th>14</th>\n",
       "      <td>Nanica primeira - atacado</td>\n",
       "      <td>São Paulo (capital)</td>\n",
       "      <td>5.0</td>\n",
       "      <td>1.0</td>\n",
       "      <td>2024.0</td>\n",
       "      <td>R$</td>\n",
       "      <td>caixa de 22 Kg</td>\n",
       "      <td>67.25</td>\n",
       "    </tr>\n",
       "    <tr>\n",
       "      <th>15</th>\n",
       "      <td>Nanica primeira - produtor</td>\n",
       "      <td>Bom Jesus da Lapa</td>\n",
       "      <td>5.0</td>\n",
       "      <td>1.0</td>\n",
       "      <td>2024.0</td>\n",
       "      <td>R$</td>\n",
       "      <td>quilograma</td>\n",
       "      <td>2.42</td>\n",
       "    </tr>\n",
       "    <tr>\n",
       "      <th>16</th>\n",
       "      <td>Nanica primeira - produtor</td>\n",
       "      <td>Linhares</td>\n",
       "      <td>5.0</td>\n",
       "      <td>1.0</td>\n",
       "      <td>2024.0</td>\n",
       "      <td>R$</td>\n",
       "      <td>quilograma</td>\n",
       "      <td>2.15</td>\n",
       "    </tr>\n",
       "    <tr>\n",
       "      <th>17</th>\n",
       "      <td>Nanica primeira - produtor</td>\n",
       "      <td>Norte de Minas Gerais</td>\n",
       "      <td>5.0</td>\n",
       "      <td>1.0</td>\n",
       "      <td>2024.0</td>\n",
       "      <td>R$</td>\n",
       "      <td>quilograma</td>\n",
       "      <td>2.38</td>\n",
       "    </tr>\n",
       "    <tr>\n",
       "      <th>18</th>\n",
       "      <td>Nanica primeira - produtor</td>\n",
       "      <td>Norte de Santa Catarina</td>\n",
       "      <td>5.0</td>\n",
       "      <td>1.0</td>\n",
       "      <td>2024.0</td>\n",
       "      <td>R$</td>\n",
       "      <td>quilograma</td>\n",
       "      <td>1.07</td>\n",
       "    </tr>\n",
       "    <tr>\n",
       "      <th>19</th>\n",
       "      <td>Nanica primeira - produtor</td>\n",
       "      <td>Vale do Ribeira</td>\n",
       "      <td>5.0</td>\n",
       "      <td>1.0</td>\n",
       "      <td>2024.0</td>\n",
       "      <td>R$</td>\n",
       "      <td>quilograma</td>\n",
       "      <td>1.95</td>\n",
       "    </tr>\n",
       "    <tr>\n",
       "      <th>20</th>\n",
       "      <td>Prata anã primeira - atacado</td>\n",
       "      <td>São Paulo (capital)</td>\n",
       "      <td>5.0</td>\n",
       "      <td>1.0</td>\n",
       "      <td>2024.0</td>\n",
       "      <td>R$</td>\n",
       "      <td>Caixa 20 Kg</td>\n",
       "      <td>132.50</td>\n",
       "    </tr>\n",
       "    <tr>\n",
       "      <th>21</th>\n",
       "      <td>Prata anã primeira - produtor</td>\n",
       "      <td>Bom Jesus da Lapa</td>\n",
       "      <td>5.0</td>\n",
       "      <td>1.0</td>\n",
       "      <td>2024.0</td>\n",
       "      <td>R$</td>\n",
       "      <td>quilograma</td>\n",
       "      <td>5.47</td>\n",
       "    </tr>\n",
       "    <tr>\n",
       "      <th>22</th>\n",
       "      <td>Prata anã primeira - produtor</td>\n",
       "      <td>Delfinópolis</td>\n",
       "      <td>5.0</td>\n",
       "      <td>1.0</td>\n",
       "      <td>2024.0</td>\n",
       "      <td>R$</td>\n",
       "      <td>quilograma</td>\n",
       "      <td>5.38</td>\n",
       "    </tr>\n",
       "    <tr>\n",
       "      <th>23</th>\n",
       "      <td>Prata anã primeira - produtor</td>\n",
       "      <td>Linhares</td>\n",
       "      <td>5.0</td>\n",
       "      <td>1.0</td>\n",
       "      <td>2024.0</td>\n",
       "      <td>R$</td>\n",
       "      <td>quilograma</td>\n",
       "      <td>5.17</td>\n",
       "    </tr>\n",
       "    <tr>\n",
       "      <th>24</th>\n",
       "      <td>Prata anã primeira - produtor</td>\n",
       "      <td>Norte de Minas Gerais</td>\n",
       "      <td>5.0</td>\n",
       "      <td>1.0</td>\n",
       "      <td>2024.0</td>\n",
       "      <td>R$</td>\n",
       "      <td>quilograma</td>\n",
       "      <td>5.40</td>\n",
       "    </tr>\n",
       "    <tr>\n",
       "      <th>25</th>\n",
       "      <td>Prata anã primeira - produtor</td>\n",
       "      <td>Vale do São Francisco</td>\n",
       "      <td>5.0</td>\n",
       "      <td>1.0</td>\n",
       "      <td>2024.0</td>\n",
       "      <td>R$</td>\n",
       "      <td>quilograma</td>\n",
       "      <td>4.60</td>\n",
       "    </tr>\n",
       "    <tr>\n",
       "      <th>26</th>\n",
       "      <td>Prata litoral primeira - atacado</td>\n",
       "      <td>São Paulo (capital)</td>\n",
       "      <td>5.0</td>\n",
       "      <td>1.0</td>\n",
       "      <td>2024.0</td>\n",
       "      <td>R$</td>\n",
       "      <td>Caixa 20 Kg</td>\n",
       "      <td>82.50</td>\n",
       "    </tr>\n",
       "    <tr>\n",
       "      <th>27</th>\n",
       "      <td>Prata litoral primeira - produtor</td>\n",
       "      <td>Norte de Santa Catarina</td>\n",
       "      <td>5.0</td>\n",
       "      <td>1.0</td>\n",
       "      <td>2024.0</td>\n",
       "      <td>R$</td>\n",
       "      <td>quilograma</td>\n",
       "      <td>2.08</td>\n",
       "    </tr>\n",
       "    <tr>\n",
       "      <th>28</th>\n",
       "      <td>Prata litoral primeira - produtor</td>\n",
       "      <td>Vale do Ribeira</td>\n",
       "      <td>5.0</td>\n",
       "      <td>1.0</td>\n",
       "      <td>2024.0</td>\n",
       "      <td>R$</td>\n",
       "      <td>quilograma</td>\n",
       "      <td>3.43</td>\n",
       "    </tr>\n",
       "  </tbody>\n",
       "</table>\n",
       "</div>"
      ],
      "text/plain": [
       "                              Produto                   Região   Dia  Mês  \\\n",
       "0           Nanica primeira - atacado      São Paulo (capital)  12.0  1.0   \n",
       "1          Nanica primeira - produtor        Bom Jesus da Lapa  12.0  1.0   \n",
       "2          Nanica primeira - produtor    Norte de Minas Gerais  12.0  1.0   \n",
       "3          Nanica primeira - produtor  Norte de Santa Catarina  12.0  1.0   \n",
       "4          Nanica primeira - produtor          Vale do Ribeira  12.0  1.0   \n",
       "5        Prata anã primeira - atacado      São Paulo (capital)  12.0  1.0   \n",
       "6       Prata anã primeira - produtor        Bom Jesus da Lapa  12.0  1.0   \n",
       "7       Prata anã primeira - produtor             Delfinópolis  12.0  1.0   \n",
       "8       Prata anã primeira - produtor                 Linhares  12.0  1.0   \n",
       "9       Prata anã primeira - produtor    Norte de Minas Gerais  12.0  1.0   \n",
       "10      Prata anã primeira - produtor    Vale do São Francisco  12.0  1.0   \n",
       "11   Prata litoral primeira - atacado      São Paulo (capital)  12.0  1.0   \n",
       "12  Prata litoral primeira - produtor  Norte de Santa Catarina  12.0  1.0   \n",
       "13  Prata litoral primeira - produtor          Vale do Ribeira  12.0  1.0   \n",
       "14          Nanica primeira - atacado      São Paulo (capital)   5.0  1.0   \n",
       "15         Nanica primeira - produtor        Bom Jesus da Lapa   5.0  1.0   \n",
       "16         Nanica primeira - produtor                 Linhares   5.0  1.0   \n",
       "17         Nanica primeira - produtor    Norte de Minas Gerais   5.0  1.0   \n",
       "18         Nanica primeira - produtor  Norte de Santa Catarina   5.0  1.0   \n",
       "19         Nanica primeira - produtor          Vale do Ribeira   5.0  1.0   \n",
       "20       Prata anã primeira - atacado      São Paulo (capital)   5.0  1.0   \n",
       "21      Prata anã primeira - produtor        Bom Jesus da Lapa   5.0  1.0   \n",
       "22      Prata anã primeira - produtor             Delfinópolis   5.0  1.0   \n",
       "23      Prata anã primeira - produtor                 Linhares   5.0  1.0   \n",
       "24      Prata anã primeira - produtor    Norte de Minas Gerais   5.0  1.0   \n",
       "25      Prata anã primeira - produtor    Vale do São Francisco   5.0  1.0   \n",
       "26   Prata litoral primeira - atacado      São Paulo (capital)   5.0  1.0   \n",
       "27  Prata litoral primeira - produtor  Norte de Santa Catarina   5.0  1.0   \n",
       "28  Prata litoral primeira - produtor          Vale do Ribeira   5.0  1.0   \n",
       "\n",
       "       Ano  Moeda         Unidade   Preço  \n",
       "0   2024.0  R$     caixa de 22 Kg   60.67  \n",
       "1   2024.0  R$         quilograma    2.40  \n",
       "2   2024.0  R$         quilograma    2.17  \n",
       "3   2024.0  R$         quilograma    0.96  \n",
       "4   2024.0  R$         quilograma    1.98  \n",
       "5   2024.0  R$        Caixa 20 Kg  130.00  \n",
       "6   2024.0  R$         quilograma    5.46  \n",
       "7   2024.0  R$         quilograma    5.53  \n",
       "8   2024.0  R$         quilograma    5.26  \n",
       "9   2024.0  R$         quilograma    5.50  \n",
       "10  2024.0  R$         quilograma    4.53  \n",
       "11  2024.0  R$        Caixa 20 Kg   82.50  \n",
       "12  2024.0  R$         quilograma    2.38  \n",
       "13  2024.0  R$         quilograma    4.16  \n",
       "14  2024.0  R$     caixa de 22 Kg   67.25  \n",
       "15  2024.0  R$         quilograma    2.42  \n",
       "16  2024.0  R$         quilograma    2.15  \n",
       "17  2024.0  R$         quilograma    2.38  \n",
       "18  2024.0  R$         quilograma    1.07  \n",
       "19  2024.0  R$         quilograma    1.95  \n",
       "20  2024.0  R$        Caixa 20 Kg  132.50  \n",
       "21  2024.0  R$         quilograma    5.47  \n",
       "22  2024.0  R$         quilograma    5.38  \n",
       "23  2024.0  R$         quilograma    5.17  \n",
       "24  2024.0  R$         quilograma    5.40  \n",
       "25  2024.0  R$         quilograma    4.60  \n",
       "26  2024.0  R$        Caixa 20 Kg   82.50  \n",
       "27  2024.0  R$         quilograma    2.08  \n",
       "28  2024.0  R$         quilograma    3.43  "
      ]
     },
     "execution_count": 13,
     "metadata": {},
     "output_type": "execute_result"
    }
   ],
   "source": [
    "df.dropna(axis=0,inplace=True)\n",
    "df"
   ]
  },
  {
   "cell_type": "code",
   "execution_count": null,
   "metadata": {},
   "outputs": [],
   "source": []
  },
  {
   "cell_type": "code",
   "execution_count": 14,
   "metadata": {},
   "outputs": [],
   "source": [
    "from selenium import webdriver\n",
    "from selenium.webdriver.chrome.service import Service\n",
    "from webdriver_manager.chrome import ChromeDriverManager\n",
    "from selenium.webdriver.common.by import By\n",
    "from selenium.webdriver.common.keys import Keys\n",
    "import time\n",
    "import pandas as pd\n",
    "\n",
    "servico = Service(ChromeDriverManager().install())\n",
    "navegador = webdriver.Chrome(service=servico)\n",
    "navegador.maximize_window()"
   ]
  },
  {
   "cell_type": "code",
   "execution_count": 15,
   "metadata": {},
   "outputs": [],
   "source": [
    "navegador.get('https://www.hfbrasil.org.br/br/estatistica/banana.aspx')"
   ]
  },
  {
   "cell_type": "code",
   "execution_count": 16,
   "metadata": {},
   "outputs": [],
   "source": [
    "table_element  = navegador.find_element(By.XPATH,'//*[@id=\"imagenet-conteudo\"]/div/div[2]/div[1]/div[4]/table').text"
   ]
  },
  {
   "cell_type": "code",
   "execution_count": 129,
   "metadata": {},
   "outputs": [
    {
     "data": {
      "text/plain": [
       "['Produto Região Unidade 15/dez 22/dez 05/jan 12/jan',\n",
       " 'Nanica primeira - atacado São Paulo (capital) caixa de 22 Kg 61,50 65,75 67,25 60,67',\n",
       " 'Nanica primeira - produtor Bom Jesus da Lapa quilograma 2,21 2,36 2,42 2,40',\n",
       " 'Nanica primeira - produtor Linhares quilograma - - - 2,27 2,15 - - -',\n",
       " 'Nanica primeira - produtor Norte de Minas Gerais quilograma 2,26 2,40 2,38 2,17',\n",
       " 'Nanica primeira - produtor Norte de Santa Catarina quilograma 1,33 1,14 1,07 0,96']"
      ]
     },
     "execution_count": 129,
     "metadata": {},
     "output_type": "execute_result"
    }
   ],
   "source": [
    "tabela = table_element.split('\\n')\n",
    "tabela"
   ]
  },
  {
   "cell_type": "code",
   "execution_count": 109,
   "metadata": {},
   "outputs": [
    {
     "data": {
      "text/plain": [
       "['Produto', 'Região', 'Unidade', '15/dez', '22/dez', '05/jan', '12/jan']"
      ]
     },
     "execution_count": 109,
     "metadata": {},
     "output_type": "execute_result"
    }
   ],
   "source": [
    "tabela[0].split(' ')"
   ]
  },
  {
   "cell_type": "code",
   "execution_count": 189,
   "metadata": {},
   "outputs": [],
   "source": [
    "tabela[1] = tabela[1].replace('atacado ','atacado/').replace('(capital) ','(capital)/').replace('Kg ','Kg/').replace('0 ','0/').replace('1 ','1/').replace('2 ','2/').replace('3 ','3/').replace('4 ','4/').replace('5 ','5/').replace('6 ','6/').replace('6 ','6/').replace('7 ','7/').replace('8 ','8/').replace('9 ','9/')\n",
    "tabela[1]= tabela[1].split('/')\n"
   ]
  },
  {
   "cell_type": "code",
   "execution_count": 190,
   "metadata": {},
   "outputs": [
    {
     "data": {
      "text/plain": [
       "['Nanica primeira - atacado',\n",
       " 'São Paulo (capital)',\n",
       " 'caixa de 22',\n",
       " 'Kg',\n",
       " '61,50',\n",
       " '65,75',\n",
       " '67,25',\n",
       " '60,67']"
      ]
     },
     "execution_count": 190,
     "metadata": {},
     "output_type": "execute_result"
    }
   ],
   "source": [
    "tabela[1]"
   ]
  },
  {
   "cell_type": "code",
   "execution_count": 191,
   "metadata": {},
   "outputs": [],
   "source": [
    "df = pd.DataFrame(tabela[1])"
   ]
  },
  {
   "cell_type": "code",
   "execution_count": 136,
   "metadata": {},
   "outputs": [
    {
     "data": {
      "text/html": [
       "<div>\n",
       "<style scoped>\n",
       "    .dataframe tbody tr th:only-of-type {\n",
       "        vertical-align: middle;\n",
       "    }\n",
       "\n",
       "    .dataframe tbody tr th {\n",
       "        vertical-align: top;\n",
       "    }\n",
       "\n",
       "    .dataframe thead th {\n",
       "        text-align: right;\n",
       "    }\n",
       "</style>\n",
       "<table border=\"1\" class=\"dataframe\">\n",
       "  <thead>\n",
       "    <tr style=\"text-align: right;\">\n",
       "      <th></th>\n",
       "      <th>0</th>\n",
       "      <th>1</th>\n",
       "      <th>2</th>\n",
       "      <th>3</th>\n",
       "      <th>4</th>\n",
       "      <th>5</th>\n",
       "      <th>6</th>\n",
       "      <th>7</th>\n",
       "    </tr>\n",
       "  </thead>\n",
       "  <tbody>\n",
       "    <tr>\n",
       "      <th>0</th>\n",
       "      <td>Nanica primeira - atacado</td>\n",
       "      <td>São Paulo (capital)</td>\n",
       "      <td>caixa de 22</td>\n",
       "      <td>Kg</td>\n",
       "      <td>61,50</td>\n",
       "      <td>65,75</td>\n",
       "      <td>67,25</td>\n",
       "      <td>60,67</td>\n",
       "    </tr>\n",
       "  </tbody>\n",
       "</table>\n",
       "</div>"
      ],
      "text/plain": [
       "                           0                    1            2   3      4  \\\n",
       "0  Nanica primeira - atacado  São Paulo (capital)  caixa de 22  Kg  61,50   \n",
       "\n",
       "       5      6      7  \n",
       "0  65,75  67,25  60,67  "
      ]
     },
     "execution_count": 136,
     "metadata": {},
     "output_type": "execute_result"
    }
   ],
   "source": [
    "df.T"
   ]
  },
  {
   "cell_type": "code",
   "execution_count": 150,
   "metadata": {},
   "outputs": [
    {
     "data": {
      "text/plain": [
       "['Produto Região Unidade 15/dez 22/dez 05/jan 12/jan',\n",
       " 'Nanica primeira - atacado São Paulo (capital) caixa de 22 Kg 61,50 65,75 67,25 60,67',\n",
       " 'Nanica primeira - produtor Bom Jesus da Lapa quilograma 2,21 2,36 2,42 2,40',\n",
       " 'Nanica primeira - produtor Linhares quilograma - - - 2,27 2,15 - - -',\n",
       " 'Nanica primeira - produtor Norte de Minas Gerais quilograma 2,26 2,40 2,38 2,17',\n",
       " 'Nanica primeira - produtor Norte de Santa Catarina quilograma 1,33 1,14 1,07 0,96']"
      ]
     },
     "execution_count": 150,
     "metadata": {},
     "output_type": "execute_result"
    }
   ],
   "source": [
    "tabela = table_element.split('\\n')\n",
    "tabela"
   ]
  },
  {
   "cell_type": "code",
   "execution_count": 157,
   "metadata": {},
   "outputs": [],
   "source": [
    "tabela[2] = tabela[2].replace('produtor ','produtor/').replace('Lapa ','Lapa/').replace('quilograma ','quilograma/').replace('0 ','0/').replace('1 ','1/').replace('2 ','2/').replace('3 ','3/').replace('4 ','4/').replace('5 ','5/').replace('6 ','6/').replace('6 ','6/').replace('7 ','7/').replace('8 ','8/').replace('9 ','9/')\n",
    "tabela[2]= tabela[2].split('/')"
   ]
  },
  {
   "cell_type": "code",
   "execution_count": null,
   "metadata": {},
   "outputs": [],
   "source": [
    "tabela[2]= tabela[2].split('/')"
   ]
  },
  {
   "cell_type": "code",
   "execution_count": 159,
   "metadata": {},
   "outputs": [
    {
     "data": {
      "text/plain": [
       "['Nanica primeira - produtor',\n",
       " 'Bom Jesus da Lapa',\n",
       " 'quilograma',\n",
       " '2,21',\n",
       " '2,36',\n",
       " '2,42',\n",
       " '2,40']"
      ]
     },
     "execution_count": 159,
     "metadata": {},
     "output_type": "execute_result"
    }
   ],
   "source": [
    "tabela[2]"
   ]
  },
  {
   "cell_type": "code",
   "execution_count": 162,
   "metadata": {},
   "outputs": [],
   "source": [
    "tabela[3] = tabela[3].replace('produtor ','produtor/').replace('Linhares ','Linhares/').replace('quilograma ','quilograma/').replace('0 ','0/').replace('1 ','1/').replace('2 ','2/').replace('3 ','3/').replace('4 ','4/').replace('5 ','5/').replace('6 ','6/').replace('6 ','6/').replace('7 ','7/').replace('8 ','8/').replace('9 ','9/').replace('- - - ','- - -/')\n",
    "tabela[3]= tabela[3].split('/')"
   ]
  },
  {
   "cell_type": "code",
   "execution_count": 163,
   "metadata": {},
   "outputs": [
    {
     "data": {
      "text/plain": [
       "['Nanica primeira - produtor',\n",
       " 'Linhares',\n",
       " 'quilograma',\n",
       " '- - -',\n",
       " '2,27',\n",
       " '2,15',\n",
       " '- - -']"
      ]
     },
     "execution_count": 163,
     "metadata": {},
     "output_type": "execute_result"
    }
   ],
   "source": [
    "tabela[3]"
   ]
  },
  {
   "cell_type": "code",
   "execution_count": 151,
   "metadata": {},
   "outputs": [],
   "source": [
    "tabela[4] = tabela[4].replace('produtor ','produtor/').replace('Gerais ','Gerais/').replace('quilograma ','quilograma/').replace('0 ','0/').replace('1 ','1/').replace('2 ','2/').replace('3 ','3/').replace('4 ','4/').replace('5 ','5/').replace('6 ','6/').replace('6 ','6/').replace('7 ','7/').replace('8 ','8/').replace('9 ','9/').replace('- - - ','- - -/')\n",
    "tabela[4]= tabela[4].split('/')"
   ]
  },
  {
   "cell_type": "code",
   "execution_count": 152,
   "metadata": {},
   "outputs": [
    {
     "data": {
      "text/plain": [
       "['Nanica primeira - produtor',\n",
       " 'Norte de Minas Gerais',\n",
       " 'quilograma',\n",
       " '2,26',\n",
       " '2,40',\n",
       " '2,38',\n",
       " '2,17']"
      ]
     },
     "execution_count": 152,
     "metadata": {},
     "output_type": "execute_result"
    }
   ],
   "source": [
    "tabela[4]"
   ]
  },
  {
   "cell_type": "code",
   "execution_count": 153,
   "metadata": {},
   "outputs": [
    {
     "data": {
      "text/plain": [
       "['Nanica primeira - produtor',\n",
       " 'Norte de Santa Catarina',\n",
       " 'quilograma',\n",
       " '1,33',\n",
       " '1,14',\n",
       " '1,07',\n",
       " '0,96']"
      ]
     },
     "execution_count": 153,
     "metadata": {},
     "output_type": "execute_result"
    }
   ],
   "source": [
    "\n",
    "tabela[5] = tabela[5].replace('produtor ','produtor/').replace('Catarina ','Catarina/').replace('quilograma ','quilograma/').replace('0 ','0/').replace('1 ','1/').replace('2 ','2/').replace('3 ','3/').replace('4 ','4/').replace('5 ','5/').replace('6 ','6/').replace('6 ','6/').replace('7 ','7/').replace('8 ','8/').replace('9 ','9/').replace('- - - ','- - -/')\n",
    "tabela[5]= tabela[5].split('/')\n",
    "tabela[5]"
   ]
  },
  {
   "cell_type": "code",
   "execution_count": 160,
   "metadata": {},
   "outputs": [],
   "source": [
    "df1 = pd.DataFrame(tabela[2])"
   ]
  },
  {
   "cell_type": "code",
   "execution_count": 181,
   "metadata": {},
   "outputs": [],
   "source": [
    "df1 = pd.DataFrame(tabela[2])\n",
    "df2 = pd.DataFrame(tabela[3])\n",
    "df3 = pd.DataFrame(tabela[4])\n",
    "df4 = pd.DataFrame(tabela[5])"
   ]
  },
  {
   "cell_type": "code",
   "execution_count": 192,
   "metadata": {},
   "outputs": [],
   "source": [
    "df.loc[df[0] == 'caixa de 22', 0]= 'caixa de 22 Kg'"
   ]
  },
  {
   "cell_type": "code",
   "execution_count": 193,
   "metadata": {},
   "outputs": [],
   "source": [
    "df = df.loc[df[0]!= 'Kg']"
   ]
  },
  {
   "cell_type": "code",
   "execution_count": 174,
   "metadata": {},
   "outputs": [],
   "source": [
    "tabela[0] = tabela[0].split()"
   ]
  },
  {
   "cell_type": "code",
   "execution_count": 194,
   "metadata": {},
   "outputs": [
    {
     "data": {
      "text/html": [
       "<div>\n",
       "<style scoped>\n",
       "    .dataframe tbody tr th:only-of-type {\n",
       "        vertical-align: middle;\n",
       "    }\n",
       "\n",
       "    .dataframe tbody tr th {\n",
       "        vertical-align: top;\n",
       "    }\n",
       "\n",
       "    .dataframe thead th {\n",
       "        text-align: right;\n",
       "    }\n",
       "</style>\n",
       "<table border=\"1\" class=\"dataframe\">\n",
       "  <thead>\n",
       "    <tr style=\"text-align: right;\">\n",
       "      <th></th>\n",
       "      <th>index</th>\n",
       "      <th>0</th>\n",
       "    </tr>\n",
       "  </thead>\n",
       "  <tbody>\n",
       "    <tr>\n",
       "      <th>0</th>\n",
       "      <td>0</td>\n",
       "      <td>Nanica primeira - atacado</td>\n",
       "    </tr>\n",
       "    <tr>\n",
       "      <th>1</th>\n",
       "      <td>1</td>\n",
       "      <td>São Paulo (capital)</td>\n",
       "    </tr>\n",
       "    <tr>\n",
       "      <th>2</th>\n",
       "      <td>2</td>\n",
       "      <td>caixa de 22 Kg</td>\n",
       "    </tr>\n",
       "    <tr>\n",
       "      <th>3</th>\n",
       "      <td>4</td>\n",
       "      <td>61,50</td>\n",
       "    </tr>\n",
       "    <tr>\n",
       "      <th>4</th>\n",
       "      <td>5</td>\n",
       "      <td>65,75</td>\n",
       "    </tr>\n",
       "    <tr>\n",
       "      <th>5</th>\n",
       "      <td>6</td>\n",
       "      <td>67,25</td>\n",
       "    </tr>\n",
       "    <tr>\n",
       "      <th>6</th>\n",
       "      <td>7</td>\n",
       "      <td>60,67</td>\n",
       "    </tr>\n",
       "  </tbody>\n",
       "</table>\n",
       "</div>"
      ],
      "text/plain": [
       "   index                          0\n",
       "0      0  Nanica primeira - atacado\n",
       "1      1        São Paulo (capital)\n",
       "2      2             caixa de 22 Kg\n",
       "3      4                      61,50\n",
       "4      5                      65,75\n",
       "5      6                      67,25\n",
       "6      7                      60,67"
      ]
     },
     "execution_count": 194,
     "metadata": {},
     "output_type": "execute_result"
    }
   ],
   "source": [
    "df.reset_index(inplace=True)\n",
    "df"
   ]
  },
  {
   "cell_type": "code",
   "execution_count": 195,
   "metadata": {},
   "outputs": [],
   "source": [
    "df.drop(['index'],axis=1,inplace=True)"
   ]
  },
  {
   "cell_type": "code",
   "execution_count": 196,
   "metadata": {},
   "outputs": [
    {
     "data": {
      "text/html": [
       "<div>\n",
       "<style scoped>\n",
       "    .dataframe tbody tr th:only-of-type {\n",
       "        vertical-align: middle;\n",
       "    }\n",
       "\n",
       "    .dataframe tbody tr th {\n",
       "        vertical-align: top;\n",
       "    }\n",
       "\n",
       "    .dataframe thead th {\n",
       "        text-align: right;\n",
       "    }\n",
       "</style>\n",
       "<table border=\"1\" class=\"dataframe\">\n",
       "  <thead>\n",
       "    <tr style=\"text-align: right;\">\n",
       "      <th></th>\n",
       "      <th>0</th>\n",
       "    </tr>\n",
       "  </thead>\n",
       "  <tbody>\n",
       "    <tr>\n",
       "      <th>0</th>\n",
       "      <td>Nanica primeira - atacado</td>\n",
       "    </tr>\n",
       "    <tr>\n",
       "      <th>1</th>\n",
       "      <td>São Paulo (capital)</td>\n",
       "    </tr>\n",
       "    <tr>\n",
       "      <th>2</th>\n",
       "      <td>caixa de 22 Kg</td>\n",
       "    </tr>\n",
       "    <tr>\n",
       "      <th>3</th>\n",
       "      <td>61,50</td>\n",
       "    </tr>\n",
       "    <tr>\n",
       "      <th>4</th>\n",
       "      <td>65,75</td>\n",
       "    </tr>\n",
       "    <tr>\n",
       "      <th>5</th>\n",
       "      <td>67,25</td>\n",
       "    </tr>\n",
       "    <tr>\n",
       "      <th>6</th>\n",
       "      <td>60,67</td>\n",
       "    </tr>\n",
       "  </tbody>\n",
       "</table>\n",
       "</div>"
      ],
      "text/plain": [
       "                           0\n",
       "0  Nanica primeira - atacado\n",
       "1        São Paulo (capital)\n",
       "2             caixa de 22 Kg\n",
       "3                      61,50\n",
       "4                      65,75\n",
       "5                      67,25\n",
       "6                      60,67"
      ]
     },
     "execution_count": 196,
     "metadata": {},
     "output_type": "execute_result"
    }
   ],
   "source": [
    "df"
   ]
  },
  {
   "cell_type": "code",
   "execution_count": 197,
   "metadata": {},
   "outputs": [
    {
     "data": {
      "text/html": [
       "<div>\n",
       "<style scoped>\n",
       "    .dataframe tbody tr th:only-of-type {\n",
       "        vertical-align: middle;\n",
       "    }\n",
       "\n",
       "    .dataframe tbody tr th {\n",
       "        vertical-align: top;\n",
       "    }\n",
       "\n",
       "    .dataframe thead th {\n",
       "        text-align: right;\n",
       "    }\n",
       "</style>\n",
       "<table border=\"1\" class=\"dataframe\">\n",
       "  <thead>\n",
       "    <tr style=\"text-align: right;\">\n",
       "      <th></th>\n",
       "      <th>0</th>\n",
       "      <th>1</th>\n",
       "      <th>2</th>\n",
       "      <th>3</th>\n",
       "      <th>4</th>\n",
       "      <th>5</th>\n",
       "      <th>6</th>\n",
       "    </tr>\n",
       "  </thead>\n",
       "  <tbody>\n",
       "    <tr>\n",
       "      <th>0</th>\n",
       "      <td>Nanica primeira - atacado</td>\n",
       "      <td>São Paulo (capital)</td>\n",
       "      <td>caixa de 22 Kg</td>\n",
       "      <td>61,50</td>\n",
       "      <td>65,75</td>\n",
       "      <td>67,25</td>\n",
       "      <td>60,67</td>\n",
       "    </tr>\n",
       "    <tr>\n",
       "      <th>0</th>\n",
       "      <td>Nanica primeira - produtor</td>\n",
       "      <td>Bom Jesus da Lapa</td>\n",
       "      <td>quilograma</td>\n",
       "      <td>2,21</td>\n",
       "      <td>2,36</td>\n",
       "      <td>2,42</td>\n",
       "      <td>2,40</td>\n",
       "    </tr>\n",
       "    <tr>\n",
       "      <th>0</th>\n",
       "      <td>Nanica primeira - produtor</td>\n",
       "      <td>Linhares</td>\n",
       "      <td>quilograma</td>\n",
       "      <td>- - -</td>\n",
       "      <td>2,27</td>\n",
       "      <td>2,15</td>\n",
       "      <td>- - -</td>\n",
       "    </tr>\n",
       "    <tr>\n",
       "      <th>0</th>\n",
       "      <td>Nanica primeira - produtor</td>\n",
       "      <td>Norte de Minas Gerais</td>\n",
       "      <td>quilograma</td>\n",
       "      <td>2,26</td>\n",
       "      <td>2,40</td>\n",
       "      <td>2,38</td>\n",
       "      <td>2,17</td>\n",
       "    </tr>\n",
       "    <tr>\n",
       "      <th>0</th>\n",
       "      <td>Nanica primeira - produtor</td>\n",
       "      <td>Norte de Santa Catarina</td>\n",
       "      <td>quilograma</td>\n",
       "      <td>1,33</td>\n",
       "      <td>1,14</td>\n",
       "      <td>1,07</td>\n",
       "      <td>0,96</td>\n",
       "    </tr>\n",
       "  </tbody>\n",
       "</table>\n",
       "</div>"
      ],
      "text/plain": [
       "                            0                        1               2      3  \\\n",
       "0   Nanica primeira - atacado      São Paulo (capital)  caixa de 22 Kg  61,50   \n",
       "0  Nanica primeira - produtor        Bom Jesus da Lapa      quilograma   2,21   \n",
       "0  Nanica primeira - produtor                 Linhares      quilograma  - - -   \n",
       "0  Nanica primeira - produtor    Norte de Minas Gerais      quilograma   2,26   \n",
       "0  Nanica primeira - produtor  Norte de Santa Catarina      quilograma   1,33   \n",
       "\n",
       "       4      5      6  \n",
       "0  65,75  67,25  60,67  \n",
       "0   2,36   2,42   2,40  \n",
       "0   2,27   2,15  - - -  \n",
       "0   2,40   2,38   2,17  \n",
       "0   1,14   1,07   0,96  "
      ]
     },
     "execution_count": 197,
     "metadata": {},
     "output_type": "execute_result"
    }
   ],
   "source": [
    "df_final = pd.concat([df.T,df1.T,df2.T,df3.T,df4.T])\n",
    "df_final"
   ]
  },
  {
   "cell_type": "code",
   "execution_count": 198,
   "metadata": {},
   "outputs": [
    {
     "data": {
      "text/plain": [
       "['Produto', 'Região', 'Unidade', '15/dez', '22/dez', '05/jan', '12/jan']"
      ]
     },
     "execution_count": 198,
     "metadata": {},
     "output_type": "execute_result"
    }
   ],
   "source": [
    "tabela[0]"
   ]
  },
  {
   "cell_type": "code",
   "execution_count": 199,
   "metadata": {},
   "outputs": [],
   "source": [
    "df_final.columns = tabela[0]"
   ]
  },
  {
   "cell_type": "code",
   "execution_count": 200,
   "metadata": {},
   "outputs": [
    {
     "data": {
      "text/html": [
       "<div>\n",
       "<style scoped>\n",
       "    .dataframe tbody tr th:only-of-type {\n",
       "        vertical-align: middle;\n",
       "    }\n",
       "\n",
       "    .dataframe tbody tr th {\n",
       "        vertical-align: top;\n",
       "    }\n",
       "\n",
       "    .dataframe thead th {\n",
       "        text-align: right;\n",
       "    }\n",
       "</style>\n",
       "<table border=\"1\" class=\"dataframe\">\n",
       "  <thead>\n",
       "    <tr style=\"text-align: right;\">\n",
       "      <th></th>\n",
       "      <th>Produto</th>\n",
       "      <th>Região</th>\n",
       "      <th>Unidade</th>\n",
       "      <th>15/dez</th>\n",
       "      <th>22/dez</th>\n",
       "      <th>05/jan</th>\n",
       "      <th>12/jan</th>\n",
       "    </tr>\n",
       "  </thead>\n",
       "  <tbody>\n",
       "    <tr>\n",
       "      <th>0</th>\n",
       "      <td>Nanica primeira - atacado</td>\n",
       "      <td>São Paulo (capital)</td>\n",
       "      <td>caixa de 22 Kg</td>\n",
       "      <td>61,50</td>\n",
       "      <td>65,75</td>\n",
       "      <td>67,25</td>\n",
       "      <td>60,67</td>\n",
       "    </tr>\n",
       "    <tr>\n",
       "      <th>0</th>\n",
       "      <td>Nanica primeira - produtor</td>\n",
       "      <td>Bom Jesus da Lapa</td>\n",
       "      <td>quilograma</td>\n",
       "      <td>2,21</td>\n",
       "      <td>2,36</td>\n",
       "      <td>2,42</td>\n",
       "      <td>2,40</td>\n",
       "    </tr>\n",
       "    <tr>\n",
       "      <th>0</th>\n",
       "      <td>Nanica primeira - produtor</td>\n",
       "      <td>Linhares</td>\n",
       "      <td>quilograma</td>\n",
       "      <td>- - -</td>\n",
       "      <td>2,27</td>\n",
       "      <td>2,15</td>\n",
       "      <td>- - -</td>\n",
       "    </tr>\n",
       "    <tr>\n",
       "      <th>0</th>\n",
       "      <td>Nanica primeira - produtor</td>\n",
       "      <td>Norte de Minas Gerais</td>\n",
       "      <td>quilograma</td>\n",
       "      <td>2,26</td>\n",
       "      <td>2,40</td>\n",
       "      <td>2,38</td>\n",
       "      <td>2,17</td>\n",
       "    </tr>\n",
       "    <tr>\n",
       "      <th>0</th>\n",
       "      <td>Nanica primeira - produtor</td>\n",
       "      <td>Norte de Santa Catarina</td>\n",
       "      <td>quilograma</td>\n",
       "      <td>1,33</td>\n",
       "      <td>1,14</td>\n",
       "      <td>1,07</td>\n",
       "      <td>0,96</td>\n",
       "    </tr>\n",
       "  </tbody>\n",
       "</table>\n",
       "</div>"
      ],
      "text/plain": [
       "                      Produto                   Região         Unidade 15/dez  \\\n",
       "0   Nanica primeira - atacado      São Paulo (capital)  caixa de 22 Kg  61,50   \n",
       "0  Nanica primeira - produtor        Bom Jesus da Lapa      quilograma   2,21   \n",
       "0  Nanica primeira - produtor                 Linhares      quilograma  - - -   \n",
       "0  Nanica primeira - produtor    Norte de Minas Gerais      quilograma   2,26   \n",
       "0  Nanica primeira - produtor  Norte de Santa Catarina      quilograma   1,33   \n",
       "\n",
       "  22/dez 05/jan 12/jan  \n",
       "0  65,75  67,25  60,67  \n",
       "0   2,36   2,42   2,40  \n",
       "0   2,27   2,15  - - -  \n",
       "0   2,40   2,38   2,17  \n",
       "0   1,14   1,07   0,96  "
      ]
     },
     "execution_count": 200,
     "metadata": {},
     "output_type": "execute_result"
    }
   ],
   "source": [
    "df_final"
   ]
  },
  {
   "attachments": {
    "image.png": {
     "image/png": "[encoded data removed]"
    }
   },
   "cell_type": "markdown",
   "metadata": {},
   "source": [
    "![image.png](attachment:image.png)"
   ]
  }
 ],
 "metadata": {
  "kernelspec": {
   "display_name": "venv",
   "language": "python",
   "name": "python3"
  },
  "language_info": {
   "codemirror_mode": {
    "name": "ipython",
    "version": 3
   },
   "file_extension": ".py",
   "mimetype": "text/x-python",
   "name": "python",
   "nbconvert_exporter": "python",
   "pygments_lexer": "ipython3",
   "version": "3.11.5"
  }
 },
 "nbformat": 4,
 "nbformat_minor": 2
}
