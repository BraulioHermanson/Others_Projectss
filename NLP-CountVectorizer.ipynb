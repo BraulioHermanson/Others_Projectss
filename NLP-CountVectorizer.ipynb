{
 "cells": [
  {
   "cell_type": "markdown",
   "id": "181de87c",
   "metadata": {},
   "source": [
    "## Medida de similaridade dos textos"
   ]
  },
  {
   "cell_type": "code",
   "execution_count": 1,
   "id": "572b7936",
   "metadata": {},
   "outputs": [],
   "source": [
    "import numpy as np\n",
    "from sklearn.feature_extraction.text import CountVectorizer"
   ]
  },
  {
   "cell_type": "code",
   "execution_count": 2,
   "id": "34469881",
   "metadata": {},
   "outputs": [],
   "source": [
    "#Bag of words\n",
    "texto_inicial = 'Olha como é fácil fazer esse picole em casa! Uma receita deliciosa pra curtir o melhor picole até no inverno'\n",
    "texto_comparativo = 'Os melhores picole sao os que já compramos nos postos perto de casa pois sao mais faceis de fazer'"
   ]
  },
  {
   "cell_type": "markdown",
   "id": "a7d2e35b",
   "metadata": {},
   "source": [
    "### Quantidde N_gramas\n",
    "- Unigrama\n",
    "n = 1\n",
    "- Bigrama\n",
    "n = 2\n",
    "- Trigrama\n",
    "n = 3"
   ]
  },
  {
   "cell_type": "code",
   "execution_count": 27,
   "id": "ff6e64a5",
   "metadata": {},
   "outputs": [
    {
     "name": "stdout",
     "output_type": "stream",
     "text": [
      "{'olha': 19, 'como': 2, 'fácil': 11, 'fazer': 10, 'esse': 8, 'picole': 22, 'em': 7, 'casa': 1, 'uma': 29, 'receita': 27, 'deliciosa': 6, 'pra': 25, 'curtir': 4, 'melhor': 15, 'até': 0, 'no': 17, 'inverno': 12, 'os': 20, 'melhores': 16, 'sao': 28, 'que': 26, 'já': 13, 'compramos': 3, 'nos': 18, 'postos': 24, 'perto': 21, 'de': 5, 'pois': 23, 'mais': 14, 'faceis': 9}\n"
     ]
    }
   ],
   "source": [
    "#qtd N_gramas\n",
    "n =1\n",
    "#Instanciando no analyzer ignoramos artigos pois usamos o parametro word\n",
    "vectorizer = CountVectorizer(analyzer = 'word',ngram_range=(n, n),binary=True)\n",
    "\n",
    "#criando dicionario\n",
    "X = vectorizer.fit([texto_inicial,texto_comparativo]).vocabulary_\n",
    "print(X)"
   ]
  },
  {
   "cell_type": "markdown",
   "id": "89f8692f",
   "metadata": {},
   "source": [
    "### Array dos N_gramas"
   ]
  },
  {
   "cell_type": "code",
   "execution_count": 29,
   "id": "92ab967d",
   "metadata": {},
   "outputs": [
    {
     "name": "stdout",
     "output_type": "stream",
     "text": [
      "Valor de n-grams \n",
      "\n",
      " [[1 1 1 0 1 0 1 1 1 0 1 1 1 0 0 1 0 1 0 1 0 0 1 0 0 1 0 1 0 1]\n",
      " [0 1 0 1 0 1 0 0 0 1 1 0 0 1 1 0 1 0 1 0 1 1 1 1 1 0 1 0 1 0]]\n",
      "----------------------------------------------------------------------\n",
      "Dicionario dos n-grams \n",
      "\n",
      " {'olha': 19, 'como': 2, 'fácil': 11, 'fazer': 10, 'esse': 8, 'picole': 22, 'em': 7, 'casa': 1, 'uma': 29, 'receita': 27, 'deliciosa': 6, 'pra': 25, 'curtir': 4, 'melhor': 15, 'até': 0, 'no': 17, 'inverno': 12, 'os': 20, 'melhores': 16, 'sao': 28, 'que': 26, 'já': 13, 'compramos': 3, 'nos': 18, 'postos': 24, 'perto': 21, 'de': 5, 'pois': 23, 'mais': 14, 'faceis': 9}\n"
     ]
    }
   ],
   "source": [
    "n =1\n",
    "\n",
    "vectorizer = CountVectorizer(analyzer = 'word',ngram_range=(n, n),binary=True)\n",
    "\n",
    "X = vectorizer.fit_transform([texto_inicial,texto_comparativo])\n",
    "\n",
    "X1 = vectorizer.fit([texto_inicial,texto_comparativo]).vocabulary_\n",
    "\n",
    "n_g_array = X.toarray()\n",
    "\n",
    "print('Valor de n-grams \\n\\n',n_g_array)\n",
    "print('-'*70)\n",
    "print('Dicionario dos n-grams \\n\\n',X1)"
   ]
  },
  {
   "cell_type": "markdown",
   "id": "0c8cd0d9",
   "metadata": {},
   "source": [
    "## Containment"
   ]
  },
  {
   "cell_type": "code",
   "execution_count": 11,
   "id": "be16ad7c",
   "metadata": {},
   "outputs": [
    {
     "data": {
      "text/plain": [
       "<2x30 sparse matrix of type '<class 'numpy.int64'>'\n",
       "\twith 33 stored elements in Compressed Sparse Row format>"
      ]
     },
     "execution_count": 11,
     "metadata": {},
     "output_type": "execute_result"
    }
   ],
   "source": [
    "X"
   ]
  },
  {
   "cell_type": "code",
   "execution_count": 12,
   "id": "4c630938",
   "metadata": {},
   "outputs": [
    {
     "data": {
      "text/plain": [
       "array([[1, 1, 1, 0, 1, 0, 1, 1, 1, 0, 1, 1, 1, 0, 0, 1, 0, 1, 0, 1, 0, 0,\n",
       "        2, 0, 0, 1, 0, 1, 0, 1],\n",
       "       [0, 1, 0, 1, 0, 2, 0, 0, 0, 1, 1, 0, 0, 1, 1, 0, 1, 0, 1, 0, 2, 1,\n",
       "        1, 1, 1, 0, 1, 0, 2, 0]], dtype=int64)"
      ]
     },
     "execution_count": 12,
     "metadata": {},
     "output_type": "execute_result"
    }
   ],
   "source": [
    "X.toarray()"
   ]
  },
  {
   "cell_type": "code",
   "execution_count": 30,
   "id": "cac1c72f",
   "metadata": {},
   "outputs": [
    {
     "data": {
      "text/plain": [
       "array([0, 1, 0, 0, 0, 0, 0, 0, 0, 0, 1, 0, 0, 0, 0, 0, 0, 0, 0, 0, 0, 0,\n",
       "       1, 0, 0, 0, 0, 0, 0, 0], dtype=int64)"
      ]
     },
     "execution_count": 30,
     "metadata": {},
     "output_type": "execute_result"
    }
   ],
   "source": [
    "interesecao = np.amin(X.toarray(),axis=0)\n",
    "interesecao"
   ]
  },
  {
   "cell_type": "code",
   "execution_count": 31,
   "id": "0be3d118",
   "metadata": {},
   "outputs": [
    {
     "data": {
      "text/plain": [
       "3"
      ]
     },
     "execution_count": 31,
     "metadata": {},
     "output_type": "execute_result"
    }
   ],
   "source": [
    "contagem = np.sum(interesecao)\n",
    "contagem"
   ]
  },
  {
   "cell_type": "code",
   "execution_count": 32,
   "id": "295f7f44",
   "metadata": {},
   "outputs": [
    {
     "data": {
      "text/plain": [
       "17"
      ]
     },
     "execution_count": 32,
     "metadata": {},
     "output_type": "execute_result"
    }
   ],
   "source": [
    "index_1 = 0\n",
    "cont_index = np.sum(X.toarray()[index_1])\n",
    "cont_index"
   ]
  },
  {
   "cell_type": "code",
   "execution_count": 33,
   "id": "e933037c",
   "metadata": {},
   "outputs": [
    {
     "data": {
      "text/plain": [
       "0.17647058823529413"
      ]
     },
     "execution_count": 33,
     "metadata": {},
     "output_type": "execute_result"
    }
   ],
   "source": [
    "contagem/cont_index"
   ]
  },
  {
   "cell_type": "code",
   "execution_count": 34,
   "id": "c1bab6b9",
   "metadata": {},
   "outputs": [
    {
     "name": "stdout",
     "output_type": "stream",
     "text": [
      "O grau de similiridade desse texto é de 17.65%\n"
     ]
    }
   ],
   "source": [
    "print('O grau de similiridade desse texto é de {:.2%}'.format(contagem/cont_index))"
   ]
  }
 ],
 "metadata": {
  "kernelspec": {
   "display_name": "Python 3",
   "language": "python",
   "name": "python3"
  },
  "language_info": {
   "codemirror_mode": {
    "name": "ipython",
    "version": 3
   },
   "file_extension": ".py",
   "mimetype": "text/x-python",
   "name": "python",
   "nbconvert_exporter": "python",
   "pygments_lexer": "ipython3",
   "version": "3.9.12"
  }
 },
 "nbformat": 4,
 "nbformat_minor": 5
}
